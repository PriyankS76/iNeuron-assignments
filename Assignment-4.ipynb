{
 "cells": [
  {
   "cell_type": "code",
   "execution_count": null,
   "id": "2f9ecbc1",
   "metadata": {},
   "outputs": [],
   "source": [
    "1. What exactly is []?\n",
    "Ans: [] is used to create an empty list."
   ]
  },
  {
   "cell_type": "code",
   "execution_count": null,
   "id": "4bdaee21",
   "metadata": {},
   "outputs": [],
   "source": [
    "2. In a list of values stored in a variable called spam, how would you assign the value 'hello' as the third value? (Assume [2, 4, 6, 8, 10] are in spam.)"
   ]
  },
  {
   "cell_type": "code",
   "execution_count": 1,
   "id": "6ecf406e",
   "metadata": {},
   "outputs": [
    {
     "name": "stdout",
     "output_type": "stream",
     "text": [
      "[2, 4, 'hello', 8, 10]\n"
     ]
    }
   ],
   "source": [
    "spam = [2, 4, 6, 8, 10]\n",
    "spam[2] = 'hello'\n",
    "print(spam)"
   ]
  },
  {
   "cell_type": "markdown",
   "id": "4705e38c",
   "metadata": {},
   "source": [
    "### Let's pretend the spam includes the list ['a', 'b', 'c', 'd'] for the next three queries."
   ]
  },
  {
   "cell_type": "code",
   "execution_count": 2,
   "id": "49b107eb",
   "metadata": {},
   "outputs": [],
   "source": [
    "spam = ['a', 'b', 'c', 'd']"
   ]
  },
  {
   "cell_type": "code",
   "execution_count": null,
   "id": "aa08488d",
   "metadata": {},
   "outputs": [],
   "source": [
    "3. What is the value of spam[int(int('3' * 2) / 11)]?\n"
   ]
  },
  {
   "cell_type": "code",
   "execution_count": 3,
   "id": "92526cd6",
   "metadata": {},
   "outputs": [
    {
     "data": {
      "text/plain": [
       "'d'"
      ]
     },
     "execution_count": 3,
     "metadata": {},
     "output_type": "execute_result"
    }
   ],
   "source": [
    "spam[int(int('3' * 2) / 11)]"
   ]
  },
  {
   "cell_type": "markdown",
   "id": "0ea33e1d",
   "metadata": {},
   "source": [
    "#### Ans: The value of above expression int(int('3' * 2) / 11) gives 3 and the value spam[3] will be 'd'. "
   ]
  },
  {
   "cell_type": "code",
   "execution_count": null,
   "id": "26974537",
   "metadata": {},
   "outputs": [],
   "source": [
    "4. What is the value of spam[-1]?\n",
    "Ans: The value of spam[-1] will be 'd'. This is because of use of negative index. Negative index -1 starts from last element. The code execution is shown below:"
   ]
  },
  {
   "cell_type": "code",
   "execution_count": 4,
   "id": "efa1896b",
   "metadata": {},
   "outputs": [
    {
     "data": {
      "text/plain": [
       "'d'"
      ]
     },
     "execution_count": 4,
     "metadata": {},
     "output_type": "execute_result"
    }
   ],
   "source": [
    "spam[-1]"
   ]
  },
  {
   "cell_type": "code",
   "execution_count": null,
   "id": "b4f4ae09",
   "metadata": {},
   "outputs": [],
   "source": [
    "5. What is the value of spam[:2]?\n"
   ]
  },
  {
   "cell_type": "code",
   "execution_count": null,
   "id": "eb550f23",
   "metadata": {},
   "outputs": [],
   "source": [
    "Ans: The value of spam[:2] will be ['a','b']. This operation is called slicing. list[initial value: final value: step] is the syntax. Slicing operation excludes final value while displaying the result of slicing operation.The code execution is shown below:"
   ]
  },
  {
   "cell_type": "code",
   "execution_count": 5,
   "id": "27d6dc2d",
   "metadata": {},
   "outputs": [
    {
     "data": {
      "text/plain": [
       "['a', 'b']"
      ]
     },
     "execution_count": 5,
     "metadata": {},
     "output_type": "execute_result"
    }
   ],
   "source": [
    "spam[:2]"
   ]
  },
  {
   "cell_type": "markdown",
   "id": "324a355a",
   "metadata": {},
   "source": [
    "### Let's pretend bacon has the list [3.14, 'cat,' 11, 'cat,' True] for the next three questions."
   ]
  },
  {
   "cell_type": "code",
   "execution_count": 6,
   "id": "2cbe2bf5",
   "metadata": {},
   "outputs": [],
   "source": [
    "bacon = [3.14, 'cat', 11, 'cat', True]"
   ]
  },
  {
   "cell_type": "code",
   "execution_count": null,
   "id": "3bcf6f4a",
   "metadata": {},
   "outputs": [],
   "source": [
    "6. What is the value of bacon.index('cat')?\n",
    "Ans: The value of bacon.index('cat') will be 1. index() function is used too display index of parameter passed in it. The code execution is shown below:"
   ]
  },
  {
   "cell_type": "code",
   "execution_count": 7,
   "id": "c0b22770",
   "metadata": {},
   "outputs": [
    {
     "data": {
      "text/plain": [
       "1"
      ]
     },
     "execution_count": 7,
     "metadata": {},
     "output_type": "execute_result"
    }
   ],
   "source": [
    "bacon.index('cat')"
   ]
  },
  {
   "cell_type": "code",
   "execution_count": null,
   "id": "f10f2c10",
   "metadata": {},
   "outputs": [],
   "source": [
    "7. How does bacon.append(99) change the look of the list value in bacon?\n",
    "Ans: list after append() will be [3.14, 'cat', 11, 'cat', True, 99], because append() function appends 99 in the end of the list. The code execution is shown below:"
   ]
  },
  {
   "cell_type": "code",
   "execution_count": 8,
   "id": "b569b4d9",
   "metadata": {},
   "outputs": [],
   "source": [
    "bacon.append(99)"
   ]
  },
  {
   "cell_type": "code",
   "execution_count": 9,
   "id": "8f42d0aa",
   "metadata": {},
   "outputs": [
    {
     "data": {
      "text/plain": [
       "[3.14, 'cat', 11, 'cat', True, 99]"
      ]
     },
     "execution_count": 9,
     "metadata": {},
     "output_type": "execute_result"
    }
   ],
   "source": [
    "bacon"
   ]
  },
  {
   "cell_type": "code",
   "execution_count": null,
   "id": "69a1e97d",
   "metadata": {},
   "outputs": [],
   "source": [
    "8. How does bacon.remove('cat') change the look of the list in bacon?\n",
    "Ans: list after remove() will be [3.14, 11, 'cat', True, 99], remove() function removes first occurrence of object, listlength is decreased`. This function permanently changes the list. The code execution is shown below:"
   ]
  },
  {
   "cell_type": "code",
   "execution_count": 12,
   "id": "065e5c15",
   "metadata": {},
   "outputs": [],
   "source": [
    "bacon.remove('cat')"
   ]
  },
  {
   "cell_type": "code",
   "execution_count": 13,
   "id": "1a173995",
   "metadata": {},
   "outputs": [
    {
     "data": {
      "text/plain": [
       "[3.14, 11, True, 99]"
      ]
     },
     "execution_count": 13,
     "metadata": {},
     "output_type": "execute_result"
    }
   ],
   "source": [
    "bacon"
   ]
  },
  {
   "cell_type": "code",
   "execution_count": null,
   "id": "f0ca284f",
   "metadata": {},
   "outputs": [],
   "source": [
    "9. What are the list concatenation and list replication operators?\n",
    "Ans:\n",
    "\n",
    "List concatenation operator: +\n",
    "List replication operator: *"
   ]
  },
  {
   "cell_type": "code",
   "execution_count": null,
   "id": "0c8f4dfc",
   "metadata": {},
   "outputs": [],
   "source": [
    "10. What is difference between the list methods append() and insert()?\n",
    "Ans: The append() method appends the object to the end of the list. Whereas insert() method insert the object before a specified index and moves the other list objects forward. Both methods increase the length of list."
   ]
  },
  {
   "cell_type": "code",
   "execution_count": 14,
   "id": "bb750e3a",
   "metadata": {},
   "outputs": [
    {
     "name": "stdout",
     "output_type": "stream",
     "text": [
      "[1, 4, 5, 6, 'Hello']\n"
     ]
    }
   ],
   "source": [
    "# example of append() \n",
    "\n",
    "list1 = [1,4,5,6]\n",
    "list1.append(\"Hello\")\n",
    "print(list1)"
   ]
  },
  {
   "cell_type": "code",
   "execution_count": 16,
   "id": "54419eb9",
   "metadata": {},
   "outputs": [
    {
     "name": "stdout",
     "output_type": "stream",
     "text": [
      "[4, 5, 68, 'Cat', 5]\n"
     ]
    }
   ],
   "source": [
    "# example of insert()\n",
    "\n",
    "list2 = [4,5,68,5]\n",
    "list2.insert(3,\"Cat\")\n",
    "print(list2)"
   ]
  },
  {
   "cell_type": "code",
   "execution_count": null,
   "id": "52168f74",
   "metadata": {},
   "outputs": [],
   "source": [
    "11. What are the two methods for removing items from a list?\n",
    "Ans:\n",
    "\n",
    "remove() --> it is used for removing particular object\n",
    "del keyword --> it is used for removing object at an index\n",
    "For Example"
   ]
  },
  {
   "cell_type": "code",
   "execution_count": 20,
   "id": "7ef635a2",
   "metadata": {},
   "outputs": [
    {
     "name": "stdout",
     "output_type": "stream",
     "text": [
      "original list:  [11, 22, 33, 24, 65]\n",
      "list after remove():  [11, 22, 24, 65]\n",
      "list after del:  [11, 22, 24]\n"
     ]
    }
   ],
   "source": [
    "list3 = [11, 22,33, 24, 65]\n",
    "print(\"original list: \",list3)\n",
    "list3.remove(33)\n",
    "print(\"list after remove(): \",list3)\n",
    "del list3[3]\n",
    "print(\"list after del: \",list3)"
   ]
  },
  {
   "cell_type": "code",
   "execution_count": null,
   "id": "6263560b",
   "metadata": {},
   "outputs": [],
   "source": [
    "12. Describe how list values and string values are identical.\n"
   ]
  },
  {
   "cell_type": "code",
   "execution_count": null,
   "id": "63a766e5",
   "metadata": {},
   "outputs": [],
   "source": [
    "Ans:\n",
    "\n",
    "Both list and string can be concatenated and replicated.\n",
    "Both list and string are iterables and loops can be used.\n",
    "Both list and string can be passed to a len() method.\n",
    "Both list and string have index and can be sliced."
   ]
  },
  {
   "cell_type": "code",
   "execution_count": null,
   "id": "dc584452",
   "metadata": {},
   "outputs": [],
   "source": [
    "13. What's the difference between tuples and lists?\n"
   ]
  },
  {
   "cell_type": "code",
   "execution_count": null,
   "id": "40d70955",
   "metadata": {},
   "outputs": [],
   "source": [
    "Ans The difference between tuples and list is that list is mutable while tuples are immutable, hence tuple can be used to store password."
   ]
  },
  {
   "cell_type": "code",
   "execution_count": null,
   "id": "112512fd",
   "metadata": {},
   "outputs": [],
   "source": [
    "14. How do you type a tuple value that only contains the integer 42?\n",
    "Ans:"
   ]
  },
  {
   "cell_type": "code",
   "execution_count": 22,
   "id": "c554624d",
   "metadata": {},
   "outputs": [
    {
     "data": {
      "text/plain": [
       "(42,)"
      ]
     },
     "execution_count": 22,
     "metadata": {},
     "output_type": "execute_result"
    }
   ],
   "source": [
    "tuple1 = (42,)\n",
    "tuple1"
   ]
  },
  {
   "cell_type": "code",
   "execution_count": null,
   "id": "8e5d0219",
   "metadata": {},
   "outputs": [],
   "source": [
    "15. How do you get a list value's tuple form? How do you get a tuple value's list form?\n",
    "Ans: This can be done using type casting.\n",
    "\n",
    "list()\n",
    "tuple()"
   ]
  },
  {
   "cell_type": "code",
   "execution_count": null,
   "id": "724ebc23",
   "metadata": {},
   "outputs": [],
   "source": [
    "16. Variables that “contain” list values are not necessarily lists themselves. Instead, what do they\n",
    "contain?\n",
    "\n",
    "Ans: They contain references to list values."
   ]
  },
  {
   "cell_type": "code",
   "execution_count": null,
   "id": "1f7978c5",
   "metadata": {},
   "outputs": [],
   "source": [
    "17. How do you distinguish between copy.copy() and copy.deepcopy()?\n",
    "Ans: copy.copy() creates a shallow copy of the list, i.e if changes are made in copy of original list changes are also reflected in the original list. Whereas copy,deepcopy() creates a new list and does real copy of items."
   ]
  }
 ],
 "metadata": {
  "kernelspec": {
   "display_name": "Python 3 (ipykernel)",
   "language": "python",
   "name": "python3"
  },
  "language_info": {
   "codemirror_mode": {
    "name": "ipython",
    "version": 3
   },
   "file_extension": ".py",
   "mimetype": "text/x-python",
   "name": "python",
   "nbconvert_exporter": "python",
   "pygments_lexer": "ipython3",
   "version": "3.9.12"
  }
 },
 "nbformat": 4,
 "nbformat_minor": 5
}
