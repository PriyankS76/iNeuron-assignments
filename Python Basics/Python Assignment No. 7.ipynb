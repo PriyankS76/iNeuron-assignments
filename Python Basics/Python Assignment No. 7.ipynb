{
 "cells": [
  {
   "cell_type": "markdown",
   "metadata": {
    "id": "6peJn6C38ipx"
   },
   "source": [
    "**1. What is the name of the feature responsible for generating Regex objects?**\n",
    "\n",
    "**Solution:-** The re.compile() function is responsible for generating Regex objects."
   ]
  },
  {
   "cell_type": "markdown",
   "metadata": {
    "id": "19ZmN0QfIQLu"
   },
   "source": [
    "**2. Why do raw strings often appear in Regex objects?**\n",
    "\n",
    "**Solution:-** Regular expressions use the backslash character ('\\') to indicate special forms (Metacharacters) or to allow special characters (speical sequences) to be used without invoking their special meaning. This collides with Python’s usage of the same character for the same purpose in string literals. Hence, Raw strings are used (e.g. r\"\\n\") so that backslashes do not have to be escaped."
   ]
  },
  {
   "cell_type": "markdown",
   "metadata": {
    "id": "X1_1ymlicc4p"
   },
   "source": [
    "**3. What is the return value of the search() method?**\n",
    "\n",
    "**Solution:-**The return value of re.search(pattern,string) method is a match object if the pattern is observed in the string else it returns a None\n",
    "\n",
    "**Example:-**"
   ]
  },
  {
   "cell_type": "code",
   "execution_count": 1,
   "metadata": {
    "colab": {
     "base_uri": "https://localhost:8080/"
    },
    "id": "tR6MGeYw8cx1",
    "outputId": "b1df4e14-230a-42d7-d752-3050ce900f93"
   },
   "outputs": [
    {
     "name": "stdout",
     "output_type": "stream",
     "text": [
      "Output: <re.Match object; span=(0, 1), match='I'>\n",
      "Output: None\n"
     ]
    }
   ],
   "source": [
    "import re\n",
    "match = re.search('i','I am full Full Stack Data Science Batch', flags=re.IGNORECASE)\n",
    "print('Output:',match)\n",
    "match = re.search('X','I am full Full Stack Data Science Batch', flags=re.IGNORECASE)\n",
    "print('Output:',match)"
   ]
  },
  {
   "cell_type": "code",
   "execution_count": null,
   "metadata": {
    "colab": {
     "base_uri": "https://localhost:8080/"
    },
    "id": "NB2uhxIPdiTd",
    "outputId": "5e540049-fe47-4b31-df28-53b1fa95db4e"
   },
   "outputs": [
    {
     "name": "stdout",
     "output_type": "stream",
     "text": [
      "None\n"
     ]
    }
   ],
   "source": [
    "#If no matches are found, the value None is returned:\n",
    "import re\n",
    "\n",
    "txt = \"The rain in Spain\"\n",
    "x = re.search(\"Portugal\", txt)\n",
    "print(x)"
   ]
  },
  {
   "cell_type": "markdown",
   "metadata": {
    "id": "VWmXfUd3eHHB"
   },
   "source": [
    "**4. From a Match item, how do you get the actual strings that match the pattern?**\n",
    "\n",
    "**Solution:-**The group() method returns strings of the matched text.\n",
    "\n",
    "**Example:-**"
   ]
  },
  {
   "cell_type": "code",
   "execution_count": null,
   "metadata": {
    "colab": {
     "base_uri": "https://localhost:8080/"
    },
    "id": "AzmYxWoWeGBy",
    "outputId": "f677d5e4-e463-41da-ade6-2a7507e08a01"
   },
   "outputs": [
    {
     "name": "stdout",
     "output_type": "stream",
     "text": [
      "Spain\n"
     ]
    }
   ],
   "source": [
    "#Search for an upper case \"S\" character in the beginning of a word, and print the word:\n",
    "import re\n",
    "txt = \"The rain in Spain\"\n",
    "x = re.search(r\"\\bS\\w+\", txt)\n",
    "print(x.group())"
   ]
  },
  {
   "cell_type": "markdown",
   "metadata": {
    "id": "ZrV_Y7SmiXe5"
   },
   "source": [
    "**5. In the regex which created from the r'(\\d\\d\\d)-(\\d\\d\\d-\\d\\d\\d\\d)', what does group zero cover? Group 2? Group 1?**\n",
    "\n",
    "**Solution:-** Group 0 is the entire match, group 1 covers the first set of parentheses, and group 2 covers the second set of parentheses.\n",
    "\n",
    "**Example:-**"
   ]
  },
  {
   "cell_type": "code",
   "execution_count": 5,
   "metadata": {
    "colab": {
     "base_uri": "https://localhost:8080/"
    },
    "id": "qBuVDgtFiNUn",
    "outputId": "23aca14a-4ffe-41f3-ced7-b7818c73cd30"
   },
   "outputs": [
    {
     "name": "stdout",
     "output_type": "stream",
     "text": [
      "gouravrshi6324@gmail.com\n",
      "gouravrshi6324\n",
      "gmail\n",
      "com\n",
      "('gouravrshi6324', 'gmail', 'com')\n"
     ]
    }
   ],
   "source": [
    "import re \n",
    "\n",
    "match_object = re.match(r'(\\w+)@(\\w+)\\.(\\w+)', 'gouravrshi6324@gmail.com') \n",
    "\n",
    "# for entire match \n",
    "print(match_object.group()) \n",
    "# also print(match_object.group(0)) can be used \n",
    "\n",
    "# for the first parenthesized subgroup \n",
    "print(match_object.group(1)) \n",
    "\n",
    "# for the second parenthesized subgroup \n",
    "print(match_object.group(2)) \n",
    "\n",
    "# for the third parenthesized subgroup \n",
    "print(match_object.group(3)) \n",
    "\n",
    "# for a tuple of all matched subgroups \n",
    "print(match_object.group(1, 2, 3)) \n"
   ]
  },
  {
   "cell_type": "markdown",
   "metadata": {
    "id": "4-I2IBC2yhBj"
   },
   "source": [
    "**6. In standard expression syntax, parentheses and intervals have distinct meanings. How can you tell a regex that you want it to fit real parentheses and periods?**\n",
    "\n",
    "**Solution:-** Periods and parentheses can be escaped with a backslash: \n",
    "\n",
    "**\\ ., \\ (, and \\ )**  "
   ]
  },
  {
   "cell_type": "markdown",
   "metadata": {
    "id": "9Js5fqKA0KyD"
   },
   "source": [
    "**7. The findall() method returns a string list or a list of string tuples. What causes it to return one of the two options?**\n",
    "\n",
    "**Solution:-** If the regex has no groups, a list of strings is returned. If the regex has groups, a list of tuples of strings is returned.\n",
    "\n",
    "findall() is probably the single most powerful function in the re module. Above we used re.search() to find the first match for a pattern. findall() finds all the matches and returns them as a list of strings, with each string representing one match."
   ]
  },
  {
   "cell_type": "code",
   "execution_count": 8,
   "metadata": {
    "colab": {
     "base_uri": "https://localhost:8080/"
    },
    "id": "KroKbgJqydwU",
    "outputId": "ac9d8e23-7a6c-4228-e022-a09d7f86aa3e"
   },
   "outputs": [
    {
     "name": "stdout",
     "output_type": "stream",
     "text": [
      "hotelgouravrshi6324@gmail.com\n",
      "gouravrshi6324@gmail.com\n"
     ]
    }
   ],
   "source": [
    "## Suppose we have a text with many email addresses\n",
    "str = 'hotelgouravrshi6324@gmail.com, gouravrshi6324@gmail.com saurab johar'\n",
    "\n",
    "## Here re.findall() returns a list of all the found email strings\n",
    "emails = re.findall(r'[\\w\\.-]+@[\\w\\.-]+', str) ## ['hotelgouravrshi6324@gmail.com']\n",
    "for email in emails:\n",
    "  # do something with each found email string\n",
    "  print(email)"
   ]
  },
  {
   "cell_type": "markdown",
   "metadata": {
    "id": "a8Tmnz-p566W"
   },
   "source": [
    "**8. In standard expressions, what does the | character mean?**\n",
    "\n",
    "**Solution:-** The \\. \\( and \\) escape characters in the raw string passed to re.compile() will match actual parenthesis characters.\n",
    "\n",
    "The | character signifies matching \"either, or\" between two groups.\n",
    "\n",
    "**Example:-**"
   ]
  },
  {
   "cell_type": "code",
   "execution_count": 22,
   "metadata": {
    "colab": {
     "base_uri": "https://localhost:8080/"
    },
    "id": "GeyoGFJ33EHH",
    "outputId": "953c2363-0bc7-4ebe-e47b-a9a69c02aa13"
   },
   "outputs": [
    {
     "name": "stdout",
     "output_type": "stream",
     "text": [
      "['falls']\n",
      "Yes, there is at least one match!\n"
     ]
    }
   ],
   "source": [
    "import re\n",
    "txt = \"The rain in Delhi falls mainly in the plain!\"\n",
    "\n",
    "#Check if the string contains either \"falls\" or \"stays\":\n",
    "x = re.findall(\"falls|stays\", txt)\n",
    "print(x)\n",
    "\n",
    "if x:\n",
    "  print(\"Yes, there is at least one match!\")\n",
    "else:\n",
    "  print(\"No match\")"
   ]
  },
  {
   "cell_type": "markdown",
   "metadata": {
    "id": "smWsWUkr7DhT"
   },
   "source": [
    "**9. In regular expressions, what does the ? character stand for?**\n",
    "\n",
    "**Solution:-** The ? character can either mean \"match zero or one of the preceding group\" or be used to signify nongreedy matching."
   ]
  },
  {
   "cell_type": "markdown",
   "metadata": {
    "id": "oHoT03t2-rYQ"
   },
   "source": [
    "**10.regular expressions, what is the difference between the + and * characters?**\n",
    "\n",
    "**Solution:-** The + matches one or more. The * matches zero or more.\n",
    "\n",
    "**Example:-**"
   ]
  },
  {
   "cell_type": "code",
   "execution_count": 23,
   "metadata": {
    "colab": {
     "base_uri": "https://localhost:8080/"
    },
    "id": "p73cWYvE6-8j",
    "outputId": "a0d6e2f3-0924-4a96-f977-afa0452a66af"
   },
   "outputs": [
    {
     "name": "stdout",
     "output_type": "stream",
     "text": [
      "['ai', 'ai', 'ai']\n",
      "Yes, there is at least one match!\n"
     ]
    }
   ],
   "source": [
    "#Check if the string contains \"ai\" followed by 0 or more \"x\" characters:\n",
    "import re\n",
    "txt = \"The rain in Delhi falls mainly in the plain!\"\n",
    "\n",
    "x = re.findall(\"aix*\", txt)\n",
    "print(x)\n",
    "\n",
    "if x:\n",
    "  print(\"Yes, there is at least one match!\")\n",
    "else:\n",
    "  print(\"No match\")"
   ]
  },
  {
   "cell_type": "code",
   "execution_count": 24,
   "metadata": {
    "colab": {
     "base_uri": "https://localhost:8080/"
    },
    "id": "8yRZ0PhRAN7U",
    "outputId": "c988c5bd-20f3-46c9-c08b-79889c15e218"
   },
   "outputs": [
    {
     "name": "stdout",
     "output_type": "stream",
     "text": [
      "[]\n",
      "No match\n"
     ]
    }
   ],
   "source": [
    "#Check if the string contains \"ai\" followed by 1 or more \"x\" characters:\n",
    "import re\n",
    "txt = \"The rain in Delhi falls mainly in the plain!\"\n",
    "\n",
    "x = re.findall(\"aix+\", txt)\n",
    "print(x)\n",
    "\n",
    "if x:\n",
    "  print(\"Yes, there is at least one match!\")\n",
    "else:\n",
    "  print(\"No match\")"
   ]
  },
  {
   "cell_type": "markdown",
   "metadata": {
    "id": "M1D-j3MgAY4x"
   },
   "source": [
    "**11. What is the difference between {4} and {4,5} in regular expression?**\n",
    "\n",
    "**Solution:-**The {4} matches exactly four instances of the preceding group. The {4,5} matches between four and five instances.\n",
    "\n",
    "**Example:-**"
   ]
  },
  {
   "cell_type": "code",
   "execution_count": 25,
   "metadata": {
    "colab": {
     "base_uri": "https://localhost:8080/"
    },
    "id": "_ibWoQqtAWkq",
    "outputId": "42269f77-4ac9-4448-9bb7-56a0744c8ae2"
   },
   "outputs": [
    {
     "name": "stdout",
     "output_type": "stream",
     "text": [
      "['all']\n",
      "Yes, there is at least one match!\n"
     ]
    }
   ],
   "source": [
    "#Check if the string contains \"a\" followed by exactly two \"l\" characters:\n",
    "import re\n",
    "txt = \"The rain in Delhi falls mainly in the plain!\"\n",
    "\n",
    "x = re.findall(\"al{2}\", txt)\n",
    "print(x)\n",
    "\n",
    "if x:\n",
    "  print(\"Yes, there is at least one match!\")\n",
    "else:\n",
    "  print(\"No match\")\n"
   ]
  },
  {
   "cell_type": "markdown",
   "metadata": {
    "id": "f9wAcUpFBbNx"
   },
   "source": [
    "**12. What do you mean by the \\d, \\w, and \\s shorthand character classes signify in regular expressions?**\n",
    "\n",
    "**Solution:-** \n",
    "\n",
    "1] \\d\tReturns a match where the string contains digits (numbers from 0-9)\n",
    "\n",
    "2] \\w\tReturns a match where the string contains any word characters (characters from a to Z, digits from 0-9, and the underscore _ character)\n",
    "\n",
    "3] \\s\tReturns a match where the string contains a white space character\n",
    "\n",
    "**Example:-**"
   ]
  },
  {
   "cell_type": "code",
   "execution_count": 26,
   "metadata": {
    "colab": {
     "base_uri": "https://localhost:8080/"
    },
    "id": "fBnN23XwBaGp",
    "outputId": "5a653b65-a7e2-43da-b36f-4faec6913645"
   },
   "outputs": [
    {
     "name": "stdout",
     "output_type": "stream",
     "text": [
      "[]\n",
      "No match\n"
     ]
    }
   ],
   "source": [
    "#Check if the string contains any digits (numbers from 0-9):\n",
    "import re\n",
    "txt = \"The rain in Delhi\"\n",
    "\n",
    "x = re.findall(\"\\d\", txt)\n",
    "print(x)\n",
    "\n",
    "if x:\n",
    "  print(\"Yes, there is at least one match!\")\n",
    "else:\n",
    "  print(\"No match\")\n"
   ]
  },
  {
   "cell_type": "code",
   "execution_count": 27,
   "metadata": {
    "colab": {
     "base_uri": "https://localhost:8080/"
    },
    "id": "Qad7FENeDpiK",
    "outputId": "5ddf5987-1286-47f5-b57f-a9f5e1c4ad2d"
   },
   "outputs": [
    {
     "name": "stdout",
     "output_type": "stream",
     "text": [
      "['T', 'h', 'e', 'r', 'a', 'i', 'n', 'i', 'n', 'D', 'e', 'l', 'h', 'i']\n",
      "Yes, there is at least one match!\n"
     ]
    }
   ],
   "source": [
    "#Return a match at every word character (characters from a to Z, digits from 0-9, and the underscore _ character):\n",
    "import re\n",
    "txt = \"The rain in Delhi\"\n",
    "\n",
    "x = re.findall(\"\\w\", txt)\n",
    "print(x)\n",
    "\n",
    "if x:\n",
    "  print(\"Yes, there is at least one match!\")\n",
    "else:\n",
    "  print(\"No match\")"
   ]
  },
  {
   "cell_type": "code",
   "execution_count": 28,
   "metadata": {
    "colab": {
     "base_uri": "https://localhost:8080/"
    },
    "id": "J3MHvHQRD1NC",
    "outputId": "99c935ad-0f04-403c-da56-166b5db0588e"
   },
   "outputs": [
    {
     "name": "stdout",
     "output_type": "stream",
     "text": [
      "[' ', ' ', ' ']\n",
      "Yes, there is at least one match!\n"
     ]
    }
   ],
   "source": [
    "#Return a match at every white-space character:\n",
    "import re\n",
    "txt = \"The rain in Delhi\"\n",
    "\n",
    "x = re.findall(\"\\s\", txt)\n",
    "print(x)\n",
    "\n",
    "if x:\n",
    "  print(\"Yes, there is at least one match!\")\n",
    "else:\n",
    "  print(\"No match\")"
   ]
  },
  {
   "cell_type": "markdown",
   "metadata": {
    "id": "gZljUEETD-7T"
   },
   "source": [
    "**13. What do means by \\D, \\W, and \\S shorthand character classes signify in regular expressions?**\n",
    "\n",
    "**Solution:-**\n",
    "\n",
    "1] \\D\tReturns a match where the string DOES NOT contain digits\n",
    "\n",
    "2] \\W\tReturns a match where the string DOES NOT contain any word characters\n",
    "\n",
    "3] \\S\tReturns a match where the string DOES NOT contain a white space character\n",
    "\n",
    "**Example:-**"
   ]
  },
  {
   "cell_type": "code",
   "execution_count": 29,
   "metadata": {
    "colab": {
     "base_uri": "https://localhost:8080/"
    },
    "id": "ACgxo5n0D7Kn",
    "outputId": "976dd6b1-8986-4c60-ff27-119f053e7666"
   },
   "outputs": [
    {
     "name": "stdout",
     "output_type": "stream",
     "text": [
      "['T', 'h', 'e', ' ', 'r', 'a', 'i', 'n', ' ', 'i', 'n', ' ', 'D', 'e', 'l', 'h', 'i']\n",
      "Yes, there is at least one match!\n"
     ]
    }
   ],
   "source": [
    "#Return a match at every no-digit character:\n",
    "import re\n",
    "txt = \"The rain in Delhi\"\n",
    "\n",
    "x = re.findall(\"\\D\", txt)\n",
    "print(x)\n",
    "\n",
    "if x:\n",
    "  print(\"Yes, there is at least one match!\")\n",
    "else:\n",
    "  print(\"No match\")"
   ]
  },
  {
   "cell_type": "code",
   "execution_count": 30,
   "metadata": {
    "colab": {
     "base_uri": "https://localhost:8080/"
    },
    "id": "jAU2_tnXEjCS",
    "outputId": "cba01ad0-64cf-4c7d-de26-5f3d52b55e19"
   },
   "outputs": [
    {
     "name": "stdout",
     "output_type": "stream",
     "text": [
      "[' ', ' ', ' ']\n",
      "Yes, there is at least one match!\n"
     ]
    }
   ],
   "source": [
    "#Return a match at every NON word character (characters NOT between a and Z. Like \"!\", \"?\" white-space etc.):\n",
    "import re\n",
    "txt = \"The rain in Delhi\"\n",
    "\n",
    "x = re.findall(\"\\W\", txt)\n",
    "print(x)\n",
    "\n",
    "if x:\n",
    "  print(\"Yes, there is at least one match!\")\n",
    "else:\n",
    "  print(\"No match\")"
   ]
  },
  {
   "cell_type": "code",
   "execution_count": 17,
   "metadata": {
    "colab": {
     "base_uri": "https://localhost:8080/"
    },
    "id": "jthxC_uhEi1q",
    "outputId": "1846753b-2191-4463-d40a-1df7510bfcec"
   },
   "outputs": [
    {
     "name": "stdout",
     "output_type": "stream",
     "text": [
      "['T', 'h', 'e', 'r', 'a', 'i', 'n', 'i', 'n', 'S', 'p', 'a', 'i', 'n']\n",
      "Yes, there is at least one match!\n"
     ]
    }
   ],
   "source": [
    "#Return a match at every NON white-space character:\n",
    "import re\n",
    "txt = \"The rain in Spain\"\n",
    "\n",
    "x = re.findall(\"\\S\", txt)\n",
    "print(x)\n",
    "\n",
    "if x:\n",
    "  print(\"Yes, there is at least one match!\")\n",
    "else:\n",
    "  print(\"No match\")"
   ]
  },
  {
   "cell_type": "markdown",
   "metadata": {
    "id": "hocDDENiE6wy"
   },
   "source": [
    "**14. What is the difference between  .  and  .?**\n",
    "\n",
    "**Solution:-** The **. performs a greedy match**, and **the .? performs a nongreedy match.**"
   ]
  },
  {
   "cell_type": "markdown",
   "metadata": {
    "id": "RtNDBcKa_ws9"
   },
   "source": [
    "**15. What is the syntax for matching both numbers and lowercase letters with a character class?**\n",
    "\n",
    "**Solution:-** \n",
    "\n",
    "1] The syntax for matching the number is [0-9]--->Returns a match for any digit between 0 and 9.\n",
    "\n",
    "2] The syntax for matching the lowercase letter is [a-zA-Z]--->\tReturns a match for any character alphabetically between a and z, lower case OR upper case.\n",
    "\n",
    "3] The syntax for matching the both is [0-9a-z] or [a-z0-9]\n",
    "\n",
    "**Example:-**"
   ]
  },
  {
   "cell_type": "code",
   "execution_count": 18,
   "metadata": {
    "colab": {
     "base_uri": "https://localhost:8080/"
    },
    "id": "LSB8ZDmyEzPe",
    "outputId": "72a3f0e8-906a-496f-c9d9-662a6f170402"
   },
   "outputs": [
    {
     "name": "stdout",
     "output_type": "stream",
     "text": [
      "['8', '1', '1', '4', '5']\n",
      "Yes, there is at least one match!\n"
     ]
    }
   ],
   "source": [
    "# For The Number\n",
    "import re\n",
    "txt = \"8 times before 11:45 AM\"\n",
    "\n",
    "#Check if the string has any digits:\n",
    "x = re.findall(\"[0-9]\", txt)\n",
    "print(x)\n",
    "\n",
    "if x:\n",
    "  print(\"Yes, there is at least one match!\")\n",
    "else:\n",
    "  print(\"No match\")"
   ]
  },
  {
   "cell_type": "code",
   "execution_count": 19,
   "metadata": {
    "colab": {
     "base_uri": "https://localhost:8080/"
    },
    "id": "4XXZovCyCiES",
    "outputId": "09a6f295-88a9-4324-aeea-f1d4ccc47557"
   },
   "outputs": [
    {
     "name": "stdout",
     "output_type": "stream",
     "text": [
      "['t', 'i', 'm', 'e', 's', 'b', 'e', 'f', 'o', 'r', 'e', 'A', 'M']\n",
      "Yes, there is at least one match!\n"
     ]
    }
   ],
   "source": [
    "# Fot The lower Case letter\n",
    "import re\n",
    "txt = \"8 times before 11:45 AM\"\n",
    "\n",
    "#Check if the string has any digits:\n",
    "x = re.findall(\"[a-zA-Z]\", txt)\n",
    "print(x)\n",
    "\n",
    "if x:\n",
    "  print(\"Yes, there is at least one match!\")\n",
    "else:\n",
    "  print(\"No match\")"
   ]
  },
  {
   "cell_type": "code",
   "execution_count": 20,
   "metadata": {
    "colab": {
     "base_uri": "https://localhost:8080/"
    },
    "id": "q2GFhpfbDfUZ",
    "outputId": "79112a1a-13c0-4879-e393-eb1e36519534"
   },
   "outputs": [
    {
     "name": "stdout",
     "output_type": "stream",
     "text": [
      "['8', 't', 'i', 'm', 'e', 's', 'b', 'e', 'f', 'o', 'r', 'e', '1', '1', '4', '5']\n",
      "Yes, there is at least one match!\n"
     ]
    }
   ],
   "source": [
    "# Fot The lower Case letter\n",
    "import re\n",
    "txt = \"8 times before 11:45 AM\"\n",
    "\n",
    "#Check if the string has any digits:\n",
    "x = re.findall(\"[0-9a-z]\", txt)\n",
    "print(x)\n",
    "\n",
    "if x:\n",
    "  print(\"Yes, there is at least one match!\")\n",
    "else:\n",
    "  print(\"No match\")"
   ]
  },
  {
   "cell_type": "markdown",
   "metadata": {
    "id": "3-RfEfszCyVQ"
   },
   "source": [
    "**16. What is the procedure for making a normal expression in regax case insensitive?**\n",
    "\n",
    "**Solution:-**Passing re.I or re.IGNORECASE as the second argument to re.compile() will make the matching case insensitive.\n",
    "\n",
    "**Example:-**"
   ]
  },
  {
   "cell_type": "code",
   "execution_count": 36,
   "metadata": {
    "colab": {
     "base_uri": "https://localhost:8080/"
    },
    "id": "4GcdITF8CxBb",
    "outputId": "d059033d-47d5-4a40-aba1-7375b279a3f3"
   },
   "outputs": [
    {
     "name": "stdout",
     "output_type": "stream",
     "text": [
      "Valid\n",
      "Invalid\n",
      "Valid\n",
      "Valid\n"
     ]
    }
   ],
   "source": [
    "# Importing re package \n",
    "import re \n",
    "\n",
    "def validating_name(name): \n",
    " \n",
    "\tregex_name = re.compile(r'^(Mr\\.|Mrs\\.|Ms\\.) ([a-z]+)( [a-z]+)*( [a-z]+)*$', re.IGNORECASE)\n",
    "\t\t\t \n",
    "\tres = regex_name.search(name) \n",
    "\n",
    "\t# If match is found, the string is valid \n",
    "\tif res: print(\"Valid\") \n",
    "\t\t\n",
    "\t# If match is not found, string is invalid \n",
    "\telse: print(\"Invalid\") \n",
    "\n",
    "# Driver Code \n",
    "validating_name('Mr. Mayur Ravindra Borkar') \n",
    "validating_name('Mr and Mrs. Smith') \n",
    "validating_name('Mr. Potter')\n",
    "validating_name('Mr. Suraj Kale') "
   ]
  },
  {
   "cell_type": "markdown",
   "metadata": {
    "id": "SnY9bl6lF1b0"
   },
   "source": [
    "**17. What does the . character normally match? What does it match if re.DOTALL is passed as 2nd argument in re.compile()?**\n",
    "\n",
    "**Solution:-**The **.** character normally matches any character except the newline character. If re.DOTALL is passed as the second argument to re.compile(), then the dot will also match newline characters."
   ]
  },
  {
   "cell_type": "markdown",
   "metadata": {
    "id": "RW9v0tmNHYec"
   },
   "source": [
    "**18. If numReg = re.compile(r'\\d+'), what will numRegex.sub('X', '11 drummers, 10 pipers, five rings, 4 hen') return?**\n",
    "\n",
    "**Solution:-** \\d\tReturns a match where the string contains digits (numbers from 0-9). The return value we get **'X drummers, X pipers, five rings, X hens'**\n",
    "\n"
   ]
  },
  {
   "cell_type": "code",
   "execution_count": 35,
   "metadata": {},
   "outputs": [
    {
     "data": {
      "text/plain": [
       "'X drummers, X pipers, five rings, X hen'"
      ]
     },
     "execution_count": 35,
     "metadata": {},
     "output_type": "execute_result"
    }
   ],
   "source": [
    "import re\n",
    "numReg = re.compile(r'\\d+')\n",
    "numReg.sub('X', '11 drummers, 10 pipers, five rings, 4 hen')"
   ]
  },
  {
   "cell_type": "markdown",
   "metadata": {
    "id": "1j6XcoDE-Yp4"
   },
   "source": [
    "**19. What does passing re.VERBOSE as the 2nd argument to re.compile() allow to do?**\n",
    "\n",
    "**Solution:-**The re.VERBOSE argument allows you to add whitespace and comments to the string passed to re.compile()."
   ]
  },
  {
   "cell_type": "code",
   "execution_count": 34,
   "metadata": {},
   "outputs": [],
   "source": [
    "# Without Using VERBOSE\n",
    "regex_email = re.compile(r'^([a-z0-9_\\.-]+)@([0-9a-z\\.-]+)\\.([a-z\\.]{2, 6})$', re.IGNORECASE)\n",
    " \n",
    "# Using VERBOSE\n",
    "regex_email = re.compile(r\"\"\"\n",
    "                            ^([a-z0-9_\\.-]+)              # local Part like username\n",
    "                            @                             # single @ sign \n",
    "                            ([0-9a-z\\.-]+)                # Domain name like google\n",
    "                            \\.                            # single Dot .\n",
    "                            ([a-z]{2,6})$                 # Top level Domain  like com/in/org\n",
    "                         \"\"\",re.VERBOSE | re.IGNORECASE)   "
   ]
  },
  {
   "cell_type": "markdown",
   "metadata": {
    "id": "LqWU2lE3-jt2"
   },
   "source": [
    "**20. How would you write a regex that matche a number with comma for every three digits? It must match the given following:**\n",
    "\n",
    "'42'\n",
    "\n",
    "'1,234'\n",
    "\n",
    "'6,368,745'\n",
    "\n",
    "but not the following:\n",
    "\n",
    "'12,34,567' (which has only two digits between the commas)\n",
    "\n",
    "'1234' (which lacks commas)\n",
    "\n",
    "**Solution:-**re.compile(r'^\\d{1,3}(,\\d{3})*$') will create this regex, but other regex strings can produce a similar regular expression."
   ]
  },
  {
   "cell_type": "code",
   "execution_count": 33,
   "metadata": {},
   "outputs": [
    {
     "name": "stdout",
     "output_type": "stream",
     "text": [
      "Output: 42 -> <re.Match object; span=(0, 2), match='42'>\n",
      "Output: 1,234 -> <re.Match object; span=(0, 5), match='1,234'>\n",
      "Output: 6,368,745 -> <re.Match object; span=(0, 9), match='6,368,745'>\n",
      "Output: 12,34,567 -> None\n",
      "Output: 1234 -> None\n"
     ]
    }
   ],
   "source": [
    "import re\n",
    "pattern = r'^\\d{1,3}(,\\d{3})*$'\n",
    "pagex = re.compile(pattern)\n",
    "for ele in ['42','1,234', '6,368,745','12,34,567','1234']:\n",
    "    print('Output:',ele, '->', pagex.search(ele))"
   ]
  },
  {
   "cell_type": "markdown",
   "metadata": {
    "id": "MfS8EOZI_lGW"
   },
   "source": [
    "**21. How would you write a regex that matches the full name of someone whose last name is Watanabe? You can assume that the first name that comes before it will always be one word that begins with a capital letter. The regex must match the following:**\n",
    "\n",
    "'Haruto Watanabe'\n",
    "\n",
    "'Alice Watanabe'\n",
    "\n",
    "'RoboCop Watanabe'\n",
    "\n",
    "but not the following:\n",
    "\n",
    "'haruto Watanabe' (where the first name is not capitalized)\n",
    "\n",
    "'Mr. Watanabe' (where the preceding word has a nonletter character)\n",
    "\n",
    "'Watanabe' (which has no first name)\n",
    "\n",
    "'Haruto watanabe' (where Watanabe is not capitalized)\n",
    "\n",
    "**Solution:-** re.compile(r'[A-Z][a-z]*\\sWatanabe')\n"
   ]
  },
  {
   "cell_type": "code",
   "execution_count": 32,
   "metadata": {},
   "outputs": [
    {
     "name": "stdout",
     "output_type": "stream",
     "text": [
      "Output:  Haruto Watanabe -> <re.Match object; span=(0, 15), match='Haruto Watanabe'>\n",
      "Output:  Alice Watanabe -> <re.Match object; span=(0, 14), match='Alice Watanabe'>\n",
      "Output:  RoboCop Watanabe -> <re.Match object; span=(4, 16), match='Cop Watanabe'>\n",
      "Output:  haruto Watanabe -> None\n",
      "Output:  Mr. Watanabe -> None\n",
      "Output:  Watanabe -> None\n",
      "Output:  Haruto watanabe -> None\n"
     ]
    }
   ],
   "source": [
    "import re\n",
    "pattern = r'[A-Z]{1}[a-z]*\\sWatanabe'\n",
    "namex = re.compile(pattern)\n",
    "for name in ['Haruto Watanabe','Alice Watanabe','RoboCop Watanabe','haruto Watanabe','Mr. Watanabe','Watanabe','Haruto watanabe']:\n",
    "    print('Output: ',name,'->',namex.search(name))"
   ]
  },
  {
   "cell_type": "markdown",
   "metadata": {
    "id": "knMQ-NbfBuef"
   },
   "source": [
    "**22. How would you write a regex that matches a sentence where the first word is either Alice, Bob, or Carol; the second word is either eats, pets, or throws; the third word is apples, cats, or baseballs; and the sentence ends with a period? This regex should be case-insensitive. It must match the following:**\n",
    "\n",
    "'Alice eats apples.'\n",
    "\n",
    "'Bob pets cats.'\n",
    "\n",
    "'Carol throws baseballs.'\n",
    "\n",
    "'Alice throws Apples.'\n",
    "\n",
    "'BOB EATS CATS.'\n",
    "\n",
    "but not the following:\n",
    "\n",
    "'RoboCop eats apples.'\n",
    "\n",
    "'ALICE THROWS FOOTBALLS.'\n",
    "\n",
    "'Carol eats 7 cats.'\n",
    "\n",
    "**Solution:-**re.compile(r'(Alice|Bob|Carol)\\s(eats|pets|throws)\\s(apples|cats|baseballs)\\.', re.IGNORECASE)"
   ]
  },
  {
   "cell_type": "code",
   "execution_count": 31,
   "metadata": {
    "id": "WeGMOVxkAicp"
   },
   "outputs": [
    {
     "name": "stdout",
     "output_type": "stream",
     "text": [
      "Output:  Alice eats apples. -> <re.Match object; span=(0, 18), match='Alice eats apples.'>\n",
      "Output:  Bob pets cats. -> <re.Match object; span=(0, 14), match='Bob pets cats.'>\n",
      "Output:  Carol throws baseballs. -> <re.Match object; span=(0, 23), match='Carol throws baseballs.'>\n",
      "Output:  Alice throws Apples. -> <re.Match object; span=(0, 20), match='Alice throws Apples.'>\n",
      "Output:  BOB EATS CATS. -> <re.Match object; span=(0, 14), match='BOB EATS CATS.'>\n",
      "Output:  RoboCop eats apples. -> None\n",
      "Output:  ALICE THROWS FOOTBALLS. -> None\n",
      "Output:  Carol eats 7 cats. -> None\n"
     ]
    }
   ],
   "source": [
    "import re\n",
    "pattern = r'(Alice|Bob|Carol)\\s(eats|pets|throws)\\s(apples|cats|baseballs)\\.'\n",
    "casex = re.compile(pattern,re.IGNORECASE)\n",
    "for ele in ['Alice eats apples.','Bob pets cats.','Carol throws baseballs.','Alice throws Apples.','BOB EATS CATS.','RoboCop eats apples.'\n",
    ",'ALICE THROWS FOOTBALLS.','Carol eats 7 cats.']:\n",
    "    print('Output: ',ele,'->',casex.search(ele))"
   ]
  },
  {
   "cell_type": "code",
   "execution_count": null,
   "metadata": {},
   "outputs": [],
   "source": []
  },
  {
   "cell_type": "code",
   "execution_count": null,
   "metadata": {},
   "outputs": [],
   "source": []
  },
  {
   "cell_type": "code",
   "execution_count": null,
   "metadata": {},
   "outputs": [],
   "source": []
  },
  {
   "cell_type": "code",
   "execution_count": null,
   "metadata": {},
   "outputs": [],
   "source": []
  }
 ],
 "metadata": {
  "colab": {
   "collapsed_sections": [],
   "name": "Python Assignment No. 7.ipynb",
   "provenance": []
  },
  "kernelspec": {
   "display_name": "Python 3 (ipykernel)",
   "language": "python",
   "name": "python3"
  },
  "language_info": {
   "codemirror_mode": {
    "name": "ipython",
    "version": 3
   },
   "file_extension": ".py",
   "mimetype": "text/x-python",
   "name": "python",
   "nbconvert_exporter": "python",
   "pygments_lexer": "ipython3",
   "version": "3.9.7"
  }
 },
 "nbformat": 4,
 "nbformat_minor": 1
}
