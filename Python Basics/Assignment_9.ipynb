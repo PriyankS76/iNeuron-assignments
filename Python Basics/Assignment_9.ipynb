{
  "nbformat": 4,
  "nbformat_minor": 0,
  "metadata": {
    "colab": {
      "name": "Assignment-9.ipynb",
      "provenance": [],
      "collapsed_sections": []
    },
    "kernelspec": {
      "name": "python3",
      "display_name": "Python 3"
    },
    "language_info": {
      "name": "python"
    }
  },
  "cells": [
    {
      "cell_type": "markdown",
      "metadata": {
        "id": "iqKDcP95Lm52"
      },
      "source": [
        "# Assignment-9"
      ]
    },
    {
      "cell_type": "code",
      "metadata": {
        "id": "0ZPJ-9FmLlZF"
      },
      "source": [
        "# 1. To what does a relative path refer?"
      ],
      "execution_count": null,
      "outputs": []
    },
    {
      "cell_type": "code",
      "metadata": {
        "id": "HhkWflwX42N6",
        "colab": {
          "base_uri": "https://localhost:8080/",
          "height": 36
        },
        "outputId": "eab09b94-0c5b-4736-eef8-64057b76b7be"
      },
      "source": [
        "''' Absolute path always begins with root folder.\n",
        "Relative paths are relative to the current working directory.'''"
      ],
      "execution_count": 1,
      "outputs": [
        {
          "output_type": "execute_result",
          "data": {
            "application/vnd.google.colaboratory.intrinsic+json": {
              "type": "string"
            },
            "text/plain": [
              "'Relative paths are relative to the current working directory.'"
            ]
          },
          "metadata": {
            "tags": []
          },
          "execution_count": 1
        }
      ]
    },
    {
      "cell_type": "code",
      "metadata": {
        "colab": {
          "base_uri": "https://localhost:8080/"
        },
        "id": "yGCEv9ERg98I",
        "outputId": "da0243f9-012f-4700-ff61-29f61ff7d62e"
      },
      "source": [
        "from pathlib import Path\n",
        "import os \n",
        "Path.cwd()"
      ],
      "execution_count": 24,
      "outputs": [
        {
          "output_type": "execute_result",
          "data": {
            "text/plain": [
              "PosixPath('/content')"
            ]
          },
          "metadata": {
            "tags": []
          },
          "execution_count": 24
        }
      ]
    },
    {
      "cell_type": "code",
      "metadata": {
        "id": "QengiWI342Vd"
      },
      "source": [
        "# 2. What does an absolute path start with your operating system?"
      ],
      "execution_count": null,
      "outputs": []
    },
    {
      "cell_type": "code",
      "metadata": {
        "id": "pui4nvW942cX",
        "colab": {
          "base_uri": "https://localhost:8080/",
          "height": 36
        },
        "outputId": "bad43a80-fc40-4fd4-cf31-889d7d18feb7"
      },
      "source": [
        "\"Absolute paths start with the root folder, such as / or C:\\.\""
      ],
      "execution_count": 5,
      "outputs": [
        {
          "output_type": "execute_result",
          "data": {
            "application/vnd.google.colaboratory.intrinsic+json": {
              "type": "string"
            },
            "text/plain": [
              "'Absolute paths start with the root folder, such as / or C:\\\\.'"
            ]
          },
          "metadata": {
            "tags": []
          },
          "execution_count": 5
        }
      ]
    },
    {
      "cell_type": "code",
      "metadata": {
        "id": "4fb1oSJq42iI"
      },
      "source": [
        "# 3. What do the functions os.getcwd() and os.chdir() do?"
      ],
      "execution_count": null,
      "outputs": []
    },
    {
      "cell_type": "code",
      "metadata": {
        "id": "prGGBHEB42oV",
        "colab": {
          "base_uri": "https://localhost:8080/",
          "height": 36
        },
        "outputId": "932b5db4-6373-4d8d-a58a-5d2d942dabd5"
      },
      "source": [
        "import os \n",
        "os.getcwd()"
      ],
      "execution_count": 6,
      "outputs": [
        {
          "output_type": "execute_result",
          "data": {
            "application/vnd.google.colaboratory.intrinsic+json": {
              "type": "string"
            },
            "text/plain": [
              "'/content'"
            ]
          },
          "metadata": {
            "tags": []
          },
          "execution_count": 6
        }
      ]
    },
    {
      "cell_type": "code",
      "metadata": {
        "colab": {
          "base_uri": "https://localhost:8080/",
          "height": 36
        },
        "id": "5lLE_pznhLrF",
        "outputId": "0e6c8015-7527-4083-9a9a-01ff204a4e16"
      },
      "source": [
        "\"The os.getcwd() function returns the current working directory. \"\n",
        "\"The os.chdir() function changes the current working directory to new directory.\""
      ],
      "execution_count": 10,
      "outputs": [
        {
          "output_type": "execute_result",
          "data": {
            "application/vnd.google.colaboratory.intrinsic+json": {
              "type": "string"
            },
            "text/plain": [
              "'The os.chdir() function changes the current working directory to new directory.'"
            ]
          },
          "metadata": {
            "tags": []
          },
          "execution_count": 10
        }
      ]
    },
    {
      "cell_type": "code",
      "metadata": {
        "id": "xOBMzu4A42tm"
      },
      "source": [
        "# 4. What are the . and .. folders?"
      ],
      "execution_count": null,
      "outputs": []
    },
    {
      "cell_type": "code",
      "metadata": {
        "colab": {
          "base_uri": "https://localhost:8080/",
          "height": 36
        },
        "id": "OlvVosenhK08",
        "outputId": "ad7cd184-0acd-4e7f-b7c0-9d93b80acbf5"
      },
      "source": [
        "\"The . folder is the current folder, and .. is the parent folder.\""
      ],
      "execution_count": 11,
      "outputs": [
        {
          "output_type": "execute_result",
          "data": {
            "application/vnd.google.colaboratory.intrinsic+json": {
              "type": "string"
            },
            "text/plain": [
              "'The . folder is the current folder, and .. is the parent folder.'"
            ]
          },
          "metadata": {
            "tags": []
          },
          "execution_count": 11
        }
      ]
    },
    {
      "cell_type": "code",
      "metadata": {
        "id": "JeIij5IR425B"
      },
      "source": [
        "# 5. In C:\\bacon\\eggs\\spam.txt, which part is the dir name, and which part is the base name?"
      ],
      "execution_count": null,
      "outputs": []
    },
    {
      "cell_type": "code",
      "metadata": {
        "id": "vRGxx4_J42_n",
        "colab": {
          "base_uri": "https://localhost:8080/",
          "height": 36
        },
        "outputId": "92d51ad5-5d0a-45b1-ef61-21093c289a57"
      },
      "source": [
        "'dir name- \"C:\\bacon\\eggs\"' \n",
        "'base name -\"spam.txt'"
      ],
      "execution_count": 12,
      "outputs": [
        {
          "output_type": "execute_result",
          "data": {
            "application/vnd.google.colaboratory.intrinsic+json": {
              "type": "string"
            },
            "text/plain": [
              "'base name -\"spam.txt'"
            ]
          },
          "metadata": {
            "tags": []
          },
          "execution_count": 12
        }
      ]
    },
    {
      "cell_type": "code",
      "metadata": {
        "id": "PxTNhCZH43FA"
      },
      "source": [
        "# 6. What are the three “mode” arguments that can be passed to the open() function?"
      ],
      "execution_count": null,
      "outputs": []
    },
    {
      "cell_type": "code",
      "metadata": {
        "id": "p20YIzPX43Lr",
        "colab": {
          "base_uri": "https://localhost:8080/",
          "height": 36
        },
        "outputId": "688b0beb-09e7-4dc1-ff4e-9f15524b7d22"
      },
      "source": [
        "'''The string for\n",
        "read mode- 'r' , \n",
        "write mode- 'w', \n",
        "and 'a' for append mode'''"
      ],
      "execution_count": 13,
      "outputs": [
        {
          "output_type": "execute_result",
          "data": {
            "application/vnd.google.colaboratory.intrinsic+json": {
              "type": "string"
            },
            "text/plain": [
              "\"The string for\\nread mode- 'r' , \\nwrite mode- 'w', \\nand 'a' for append mode\""
            ]
          },
          "metadata": {
            "tags": []
          },
          "execution_count": 13
        }
      ]
    },
    {
      "cell_type": "code",
      "metadata": {
        "colab": {
          "base_uri": "https://localhost:8080/",
          "height": 90
        },
        "id": "ZfYMt6Z5kLas",
        "outputId": "758f3cec-fc6b-4252-bcb5-43e6791c08cd"
      },
      "source": [
        "'''\n",
        "if \"test1.txt\" in os.listdir():       \n",
        "  print(\"My file is available in this dir\")\n",
        "  f = open(\"test1.txt\", \"r+\")                  # read the line  \n",
        "  f = open(\"test1.txt\", \"w\")\n",
        "\n",
        "  f.write(\"Gourav is studing in INeuron\")      # writting \n",
        "  f.close()\n",
        "  \n",
        "  print(f)\n",
        "  f=open(\"test1.txt\", \"a\")                      # appending \n",
        "  f.write(\"Doing Data Science course\")\n",
        "  f.close()\n",
        "\n",
        "  f=open(\"test1.txt\")\n",
        "  f.read()\n",
        "  f.close()\n",
        "  print(f.read())\n",
        "else:\n",
        "  print(\"No, This file is not available in the currect dir\")\n",
        "'''"
      ],
      "execution_count": 20,
      "outputs": [
        {
          "output_type": "execute_result",
          "data": {
            "application/vnd.google.colaboratory.intrinsic+json": {
              "type": "string"
            },
            "text/plain": [
              "'\\nif \"test1.txt\" in os.listdir():       \\n  print(\"My file is available in this dir\")\\n  f = open(\"test1.txt\", \"r+\")                  # read the line  \\n  f = open(\"test1.txt\", \"w\")\\n\\n  f.write(\"Gourav is studing in INeuron\")      # writting \\n  f.close()\\n  \\n  print(f)\\n  f=open(\"test1.txt\", \"a\")                      # appending \\n  f.write(\"Doing Data Science course\")\\n  f.close()\\n\\n  f=open(\"test1.txt\")\\n  f.read()\\n  f.close()\\n  print(f.read())\\nelse:\\n  print(\"No, This file is not available in the currect dir\")\\n'"
            ]
          },
          "metadata": {
            "tags": []
          },
          "execution_count": 20
        }
      ]
    },
    {
      "cell_type": "code",
      "metadata": {
        "id": "qI_xSG9O43Rx"
      },
      "source": [
        "# 7. What happens if an existing file is opened in write mode?"
      ],
      "execution_count": null,
      "outputs": []
    },
    {
      "cell_type": "code",
      "metadata": {
        "id": "u4CtCrbX43Yh",
        "colab": {
          "base_uri": "https://localhost:8080/",
          "height": 36
        },
        "outputId": "de5940be-5637-4cdc-d42b-481e59cc4bed"
      },
      "source": [
        "\"If an existing file is opened in write mode then it is erased and completely overwritten again with new text.\""
      ],
      "execution_count": 14,
      "outputs": [
        {
          "output_type": "execute_result",
          "data": {
            "application/vnd.google.colaboratory.intrinsic+json": {
              "type": "string"
            },
            "text/plain": [
              "'If an existing file is opened in write mode then it is erased and completely overwritten again with new text.'"
            ]
          },
          "metadata": {
            "tags": []
          },
          "execution_count": 14
        }
      ]
    },
    {
      "cell_type": "code",
      "metadata": {
        "id": "anyucoBd43fm"
      },
      "source": [
        "# 8. How do you tell the difference between read() and readlines()?"
      ],
      "execution_count": null,
      "outputs": []
    },
    {
      "cell_type": "code",
      "metadata": {
        "id": "McMs2LrQKOKv",
        "colab": {
          "base_uri": "https://localhost:8080/",
          "height": 54
        },
        "outputId": "97149ed2-c5a0-43d1-bf05-fcbea73726ed"
      },
      "source": [
        "''' The read() returns the file’s entire contents as a single string value. \n",
        "The readlines() returns a list of strings, where each string is a line from the file’s contents.'''"
      ],
      "execution_count": 15,
      "outputs": [
        {
          "output_type": "execute_result",
          "data": {
            "application/vnd.google.colaboratory.intrinsic+json": {
              "type": "string"
            },
            "text/plain": [
              "' The read() returns the file’s entire contents as a single string value. \\nThe readlines() returns a list of strings, where each string is a line from the file’s contents.'"
            ]
          },
          "metadata": {
            "tags": []
          },
          "execution_count": 15
        }
      ]
    },
    {
      "cell_type": "code",
      "metadata": {
        "colab": {
          "base_uri": "https://localhost:8080/",
          "height": 54
        },
        "id": "XLvfOHkgm3ri",
        "outputId": "fd5b9c1d-211f-4104-d5ee-79f8b0c536ef"
      },
      "source": [
        "'''f.open(\"test2.txt\", \"w\")\n",
        "\n",
        "f.write(\"Gourav is studing in INeuron,\n",
        "He is doing a 8 months course,\n",
        "That course is Full Stack Data Science\") \n",
        "f.close()\n",
        "\n",
        "f.open(\"text2.txt\")\n",
        "f.readlines() '''"
      ],
      "execution_count": 21,
      "outputs": [
        {
          "output_type": "execute_result",
          "data": {
            "application/vnd.google.colaboratory.intrinsic+json": {
              "type": "string"
            },
            "text/plain": [
              "'f.open(\"test2.txt\", \"w\")\\n\\nf.write(\"Gourav is studing in INeuron,\\nHe is doing a 8 months course,\\nThat course is Full Stack Data Science\") \\nf.close()\\n\\nf.open(\"text2.txt\")\\nf.readlines() '"
            ]
          },
          "metadata": {
            "tags": []
          },
          "execution_count": 21
        }
      ]
    },
    {
      "cell_type": "code",
      "metadata": {
        "id": "bhUqzECjKK-h"
      },
      "source": [
        "# 9. What data structure does a shelf value resemble?"
      ],
      "execution_count": null,
      "outputs": []
    },
    {
      "cell_type": "code",
      "metadata": {
        "id": "E4COL3jGKLUy",
        "colab": {
          "base_uri": "https://localhost:8080/",
          "height": 36
        },
        "outputId": "7508cbba-6b5a-4c0c-e0e4-70f2ec4cee95"
      },
      "source": [
        "'''A shelf value works same as dictionary value; it has keys and values pairs, and \n",
        "contains keys() and values() that work same as the dictionary of the same names.'''"
      ],
      "execution_count": 17,
      "outputs": [
        {
          "output_type": "execute_result",
          "data": {
            "application/vnd.google.colaboratory.intrinsic+json": {
              "type": "string"
            },
            "text/plain": [
              "'A shelf value works same as dictionary value; it has keys and values pairs, and \\ncontains keys() and values() that work same as the dictionary of the same names.'"
            ]
          },
          "metadata": {
            "tags": []
          },
          "execution_count": 17
        }
      ]
    },
    {
      "cell_type": "code",
      "metadata": {
        "id": "qoodnGPqjuTz"
      },
      "source": [
        ""
      ],
      "execution_count": null,
      "outputs": []
    }
  ]
}