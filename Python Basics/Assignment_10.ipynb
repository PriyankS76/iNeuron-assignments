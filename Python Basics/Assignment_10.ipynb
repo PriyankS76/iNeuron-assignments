{
 "cells": [
  {
   "cell_type": "markdown",
   "metadata": {
    "id": "Aqhaz0unK_Gg"
   },
   "source": [
    "# Assignment-10\n",
    "\n",
    "---"
   ]
  },
  {
   "cell_type": "code",
   "execution_count": null,
   "metadata": {
    "id": "cUGqkfi4K7dg"
   },
   "outputs": [],
   "source": [
    "# 1. How do you distinguish between shutil.copy() and shutil.copytree()?"
   ]
  },
  {
   "cell_type": "code",
   "execution_count": null,
   "metadata": {
    "colab": {
     "base_uri": "https://localhost:8080/",
     "height": 36
    },
    "id": "HhkWflwX42N6",
    "outputId": "deaa1cad-e33e-49f2-e82d-349bf16acbc0"
   },
   "outputs": [
    {
     "data": {
      "application/vnd.google.colaboratory.intrinsic+json": {
       "type": "string"
      },
      "text/plain": [
       "'The shutil.copy() function will copy a single file, whereas shutil.copytree() will copy an entire folder including its contents.'"
      ]
     },
     "execution_count": 2,
     "metadata": {
      "tags": []
     },
     "output_type": "execute_result"
    }
   ],
   "source": [
    "\"The shutil.copy() function will copy a single file, whereas shutil.copytree() will copy an entire folder including its contents.\""
   ]
  },
  {
   "cell_type": "code",
   "execution_count": 1,
   "metadata": {},
   "outputs": [],
   "source": [
    "import os, shutil"
   ]
  },
  {
   "cell_type": "code",
   "execution_count": 3,
   "metadata": {},
   "outputs": [],
   "source": [
    "from pathlib import Path"
   ]
  },
  {
   "cell_type": "code",
   "execution_count": 4,
   "metadata": {},
   "outputs": [],
   "source": [
    "p=Path.home()"
   ]
  },
  {
   "cell_type": "code",
   "execution_count": 5,
   "metadata": {},
   "outputs": [
    {
     "data": {
      "text/plain": [
       "'C:\\\\Users\\\\GAURAV'"
      ]
     },
     "execution_count": 5,
     "metadata": {},
     "output_type": "execute_result"
    }
   ],
   "source": [
    "pwd()"
   ]
  },
  {
   "cell_type": "code",
   "execution_count": 6,
   "metadata": {},
   "outputs": [
    {
     "data": {
      "text/plain": [
       "['.astropy',\n",
       " '.conda',\n",
       " '.condarc',\n",
       " '.ipynb_checkpoints',\n",
       " '.ipython',\n",
       " '.jupyter',\n",
       " '.matplotlib',\n",
       " '.python_history',\n",
       " '3D Objects',\n",
       " 'addition.py',\n",
       " 'amazon-search',\n",
       " 'AppData',\n",
       " 'Application Data',\n",
       " 'Assignment - 1.ipynb',\n",
       " 'Assignment - 2.ipynb',\n",
       " 'Assignment_10.ipynb',\n",
       " 'Assignment_11.ipynb',\n",
       " 'Automating WebScraping Amazon Ecommerce Website Using AutoScrapper.ipynb',\n",
       " 'Contacts',\n",
       " 'Cookies',\n",
       " 'Data Science Course Lecture - 1- ----27 Feb, 2021.ipynb',\n",
       " 'Data Science Lecture - 28 Feb.ipynb',\n",
       " 'Desktop',\n",
       " 'Documents',\n",
       " 'Downloads',\n",
       " 'even.log',\n",
       " 'Fast Track- Practice-revised.ipynb',\n",
       " 'Favorites',\n",
       " 'Gourav',\n",
       " 'IntelGraphicsProfiles',\n",
       " 'Links',\n",
       " 'Local Settings',\n",
       " 'logging1',\n",
       " 'MicrosoftEdgeBackups',\n",
       " 'Music',\n",
       " 'My Documents',\n",
       " 'NetHood',\n",
       " 'NTUSER.DAT',\n",
       " 'ntuser.dat.LOG1',\n",
       " 'ntuser.dat.LOG2',\n",
       " 'NTUSER.DAT{53b39e88-18c4-11ea-a811-000d3aa4692b}.TM.blf',\n",
       " 'NTUSER.DAT{53b39e88-18c4-11ea-a811-000d3aa4692b}.TMContainer00000000000000000001.regtrans-ms',\n",
       " 'NTUSER.DAT{53b39e88-18c4-11ea-a811-000d3aa4692b}.TMContainer00000000000000000002.regtrans-ms',\n",
       " 'ntuser.ini',\n",
       " 'OneDrive',\n",
       " 'Pictures',\n",
       " 'Postman',\n",
       " 'PostmanAgent',\n",
       " 'Practice - reading csv file .ipynb',\n",
       " 'Practice questions.ipynb',\n",
       " 'PrintHood',\n",
       " 'Programming with Mosh + Ineuron (String + list..).ipynb',\n",
       " 'PycharmProjects',\n",
       " 'Recent',\n",
       " 'Saved Games',\n",
       " 'seaborn-data',\n",
       " 'Searches',\n",
       " 'SendTo',\n",
       " 'source',\n",
       " 'Start Menu',\n",
       " 'Templates',\n",
       " 'test',\n",
       " 'test1',\n",
       " 'test1.py',\n",
       " 'test11.py',\n",
       " 'test5.py',\n",
       " 'test6.py',\n",
       " 'Videos',\n",
       " 'Webscraping project - practice.ipynb',\n",
       " 'Working with Mango DB.ipynb',\n",
       " '__pycache__']"
      ]
     },
     "execution_count": 6,
     "metadata": {},
     "output_type": "execute_result"
    }
   ],
   "source": [
    "os.listdir()"
   ]
  },
  {
   "cell_type": "code",
   "execution_count": 15,
   "metadata": {},
   "outputs": [],
   "source": [
    "os.mkdir(\"testfolder\")   # created test folder "
   ]
  },
  {
   "cell_type": "code",
   "execution_count": 16,
   "metadata": {},
   "outputs": [
    {
     "data": {
      "text/plain": [
       "'C:\\\\Users\\\\GAURAV\\\\testfolder\\\\Assignment_11.ipynb'"
      ]
     },
     "execution_count": 16,
     "metadata": {},
     "output_type": "execute_result"
    }
   ],
   "source": [
    "shutil.copy(p/'Assignment_11.ipynb', p/'testfolder')   # copied Assignment_11.ipynb to test folder"
   ]
  },
  {
   "cell_type": "code",
   "execution_count": 17,
   "metadata": {},
   "outputs": [
    {
     "data": {
      "text/plain": [
       "WindowsPath('C:/Users/GAURAV/testfolder_backup')"
      ]
     },
     "execution_count": 17,
     "metadata": {},
     "output_type": "execute_result"
    }
   ],
   "source": [
    "shutil.copytree(p/'testfolder', p/'testfolder_backup') # created copy of test folder to testfolder_backup"
   ]
  },
  {
   "cell_type": "code",
   "execution_count": 7,
   "metadata": {
    "id": "QengiWI342Vd"
   },
   "outputs": [],
   "source": [
    "# 2. What function is used to rename files??"
   ]
  },
  {
   "cell_type": "code",
   "execution_count": 8,
   "metadata": {
    "id": "pui4nvW942cX"
   },
   "outputs": [
    {
     "data": {
      "text/plain": [
       "'2. The shutil.move() function is used for renaming files, as well as moving them.'"
      ]
     },
     "execution_count": 8,
     "metadata": {},
     "output_type": "execute_result"
    }
   ],
   "source": [
    "\"2. The shutil.move() function is used for renaming files, as well as moving them.\""
   ]
  },
  {
   "cell_type": "code",
   "execution_count": 21,
   "metadata": {},
   "outputs": [
    {
     "data": {
      "text/plain": [
       "'C:\\\\Users\\\\GAURAV\\\\testfolder\\\\Assignment - 1.ipynb'"
      ]
     },
     "execution_count": 21,
     "metadata": {},
     "output_type": "execute_result"
    }
   ],
   "source": [
    "# moved Assignment-1 to \"folder\" named testfolder \n",
    "shutil.move('C:\\\\Users\\\\GAURAV\\\\Assignment - 1.ipynb', 'C:\\\\Users\\\\GAURAV\\\\testfolder')  "
   ]
  },
  {
   "cell_type": "code",
   "execution_count": 9,
   "metadata": {
    "id": "4fb1oSJq42iI"
   },
   "outputs": [],
   "source": [
    "# 3. What is the difference between the delete functions in the send2trash and shutil modules?"
   ]
  },
  {
   "cell_type": "code",
   "execution_count": 10,
   "metadata": {
    "id": "prGGBHEB42oV"
   },
   "outputs": [
    {
     "data": {
      "text/plain": [
       "'3. The send2trash functions will move a file or folder to the recycle bin, while shutil functions will permanently delete files and folders.'"
      ]
     },
     "execution_count": 10,
     "metadata": {},
     "output_type": "execute_result"
    }
   ],
   "source": [
    "'''3. The send2trash functions will move a file or folder to the recycle bin, while shutil functions will permanently delete files and folders.\n",
    "shutil module functions \n",
    "with os.unlink(path) - will delete the file at path.\n",
    "os.rmdir(path)- will delete the folder at path. Remember this folder must be empty and should have no file or folder. \n",
    "os.rmtree(path) - will delete the folder at path and also remove all file and  folder it contains will also be deleted. \n",
    "\n",
    "Send2Trash is a third party module. \"installed using - !pip install Send2Trash\". It will send folders and files to computer trash or recycle bin instead of deleting permantely. \n",
    "'''"
   ]
  },
  {
   "cell_type": "code",
   "execution_count": 22,
   "metadata": {},
   "outputs": [
    {
     "data": {
      "text/plain": [
       "\"example code of Send2Trash\\n\\nimport send2trash\\n\\nf= open('test.txt.ipynb', 'a')\\nf.write('Gourav is a student of Ineuron')\\nf.close()\\nsend2trash.send2trash(test.txt)     # send test.txt file to recycle bin\\n\""
      ]
     },
     "execution_count": 22,
     "metadata": {},
     "output_type": "execute_result"
    }
   ],
   "source": [
    "'''example code of Send2Trash\n",
    "\n",
    "import send2trash\n",
    "\n",
    "f= open('test.txt.ipynb', 'a')\n",
    "f.write('Gourav is a student of Ineuron')\n",
    "f.close()\n",
    "send2trash.send2trash(test.txt)     # send test.txt file to recycle bin\n",
    "'''"
   ]
  },
  {
   "cell_type": "code",
   "execution_count": 11,
   "metadata": {
    "id": "xOBMzu4A42tm"
   },
   "outputs": [],
   "source": [
    "# 4.ZipFile objects have a close() method just like File objects’ close() method. What ZipFile method is\n",
    "# equivalent to File objects’ open() method?"
   ]
  },
  {
   "cell_type": "code",
   "execution_count": 12,
   "metadata": {
    "colab": {
     "base_uri": "https://localhost:8080/",
     "height": 36
    },
    "id": "q6US4ezO42zx",
    "outputId": "dc918e0c-6133-4db5-c594-f01edb383730"
   },
   "outputs": [
    {
     "data": {
      "text/plain": [
       "'and the second argument is the mode to open the ZIP file in (read, write, or append).'"
      ]
     },
     "execution_count": 12,
     "metadata": {},
     "output_type": "execute_result"
    }
   ],
   "source": [
    "\"4. The zipfile.ZipFile() function is equivalent to the open() function; the first argument is the filename, \"\n",
    "\"and the second argument is the mode to open the ZIP file in (read, write, or append).\""
   ]
  },
  {
   "cell_type": "code",
   "execution_count": null,
   "metadata": {},
   "outputs": [],
   "source": [
    "'''Sample code \n",
    "import zipfile, os\n",
    "from pathlib import Path\n",
    "\n",
    "file=zipfile.zipfile(p/'file.zip')  # zip file name = file.zip\n",
    "file.open()\n",
    "file.close()\n",
    "\n",
    "'''"
   ]
  },
  {
   "cell_type": "code",
   "execution_count": 53,
   "metadata": {
    "id": "E4COL3jGKLUy"
   },
   "outputs": [
    {
     "name": "stdout",
     "output_type": "stream",
     "text": [
      "Folder Name:  C:\\Users\\GAURAV\\Gourav\n",
      "SubFolder Name:  ['rishi']\n",
      "File Name:  ['new_file.txt', 'test0.txt', 'test1.txt', 'test2.txt', 'test3.txt', 'test4.txt', 'test5.txt', 'test6.txt', 'test7.txt', 'test8.txt', 'test9.txt']\n",
      "Folder Name:  C:\\Users\\GAURAV\\Gourav\\rishi\n",
      "SubFolder Name:  ['rishiA', 'rishiB']\n",
      "File Name:  ['test 09.txt']\n",
      "Folder Name:  C:\\Users\\GAURAV\\Gourav\\rishi\\rishiA\n",
      "SubFolder Name:  []\n",
      "File Name:  ['test 09A.txt']\n",
      "Folder Name:  C:\\Users\\GAURAV\\Gourav\\rishi\\rishiB\n",
      "SubFolder Name:  []\n",
      "File Name:  ['test 09B.txt']\n"
     ]
    }
   ],
   "source": [
    "# 5. Create a programme that searches a folder tree for files with a certain file extension (such as .pdf\n",
    "# or .jpg). Copy these files from whatever location they are in to a new folder.\n",
    "oldfolder = r'C:\\Users\\GAURAV\\Gourav'\n",
    "newfolder = r'C:\\Users\\GAURAV\\new_folder'\n",
    "\n",
    "for folder, subfolders, files in os.walk (oldfolder):\n",
    "    print(\"Folder Name: \", folder)\n",
    "    print(\"SubFolder Name: \", subfolders)\n",
    "    print(\"File Name: \", files)\n",
    "    \n",
    "# copying all files from all folder, subfolders to new folder\n",
    "    for file in files:\n",
    "        path= os.path.join(folder, file)\n",
    "        shutil.copy(path, newfolder)"
   ]
  },
  {
   "cell_type": "code",
   "execution_count": null,
   "metadata": {},
   "outputs": [],
   "source": []
  },
  {
   "cell_type": "code",
   "execution_count": null,
   "metadata": {},
   "outputs": [],
   "source": []
  },
  {
   "cell_type": "code",
   "execution_count": null,
   "metadata": {},
   "outputs": [],
   "source": []
  },
  {
   "cell_type": "code",
   "execution_count": null,
   "metadata": {},
   "outputs": [],
   "source": []
  },
  {
   "cell_type": "code",
   "execution_count": null,
   "metadata": {},
   "outputs": [],
   "source": []
  }
 ],
 "metadata": {
  "colab": {
   "collapsed_sections": [],
   "name": "Assignment-10.ipynb",
   "provenance": []
  },
  "kernelspec": {
   "display_name": "Python 3",
   "language": "python",
   "name": "python3"
  },
  "language_info": {
   "codemirror_mode": {
    "name": "ipython",
    "version": 3
   },
   "file_extension": ".py",
   "mimetype": "text/x-python",
   "name": "python",
   "nbconvert_exporter": "python",
   "pygments_lexer": "ipython3",
   "version": "3.8.5"
  }
 },
 "nbformat": 4,
 "nbformat_minor": 1
}
