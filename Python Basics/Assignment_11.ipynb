{
 "cells": [
  {
   "cell_type": "markdown",
   "metadata": {
    "id": "Wxi1hKDBLbaR"
   },
   "source": [
    "# Assignment-11"
   ]
  },
  {
   "cell_type": "code",
   "execution_count": 1,
   "metadata": {
    "id": "HhkWflwX42N6"
   },
   "outputs": [],
   "source": [
    "# 1. Create an assert statement that throws an AssertionError if the variable spam is a negative integer."
   ]
  },
  {
   "cell_type": "code",
   "execution_count": 7,
   "metadata": {
    "id": "XYBZ9_tXLimT"
   },
   "outputs": [
    {
     "name": "stdout",
     "output_type": "stream",
     "text": [
      "Enter the Number: 8\n"
     ]
    },
    {
     "ename": "AssertionError",
     "evalue": "The spam variable is less than 10.",
     "output_type": "error",
     "traceback": [
      "\u001b[1;31m---------------------------------------------------------------------------\u001b[0m",
      "\u001b[1;31mAssertionError\u001b[0m                            Traceback (most recent call last)",
      "\u001b[1;32m<ipython-input-7-5658a2426443>\u001b[0m in \u001b[0;36m<module>\u001b[1;34m\u001b[0m\n\u001b[0;32m      1\u001b[0m \u001b[0mspam\u001b[0m\u001b[1;33m=\u001b[0m \u001b[0mint\u001b[0m\u001b[1;33m(\u001b[0m\u001b[0minput\u001b[0m\u001b[1;33m(\u001b[0m\u001b[1;34m\"Enter the Number: \"\u001b[0m\u001b[1;33m)\u001b[0m\u001b[1;33m)\u001b[0m\u001b[1;33m\u001b[0m\u001b[1;33m\u001b[0m\u001b[0m\n\u001b[1;32m----> 2\u001b[1;33m \u001b[1;32massert\u001b[0m \u001b[0mspam\u001b[0m \u001b[1;33m>=\u001b[0m \u001b[1;36m10\u001b[0m\u001b[1;33m,\u001b[0m \u001b[1;34m'The spam variable is less than 10.'\u001b[0m\u001b[1;33m\u001b[0m\u001b[1;33m\u001b[0m\u001b[0m\n\u001b[0m",
      "\u001b[1;31mAssertionError\u001b[0m: The spam variable is less than 10."
     ]
    }
   ],
   "source": [
    "spam= int(input(\"Enter the Number: \"))\n",
    "assert spam >= 10, 'The spam variable is less than 10.' \n",
    "\n",
    "# assert statement - assert condition, string to display when condition fails"
   ]
  },
  {
   "cell_type": "code",
   "execution_count": null,
   "metadata": {
    "id": "QengiWI342Vd"
   },
   "outputs": [],
   "source": [
    "# 2. Write an assert statement that triggers an AssertionError if the variables eggs and bacon contain\n",
    "# strings that are the same as each other, even if their cases are different (that is, \"hello\" and \"hello\" are\n",
    "# considered the same, and \"goodbye\" and \"GOODbye\" are also considered the same).\n"
   ]
  },
  {
   "cell_type": "code",
   "execution_count": 14,
   "metadata": {},
   "outputs": [],
   "source": [
    "eggs= \"goodbye\"\n",
    "bacon = \"GOODbye\"\n",
    "\n",
    "assert (eggs.lower()!= bacon.lower(),\"The eggs and bacon variables are the same!\") or (eggs.upper()!= bacon.upper(),\"The eggs and bacon variables are the same!\")\n",
    "\n",
    "# input eggs= [\"hello\", \"goodbye\"]\n",
    "# bacon = [\"hello\", \"GOODbye\"]"
   ]
  },
  {
   "cell_type": "code",
   "execution_count": null,
   "metadata": {
    "id": "4fb1oSJq42iI"
   },
   "outputs": [],
   "source": [
    "# 3. Create an assert statement that throws an AssertionError every time."
   ]
  },
  {
   "cell_type": "code",
   "execution_count": 13,
   "metadata": {
    "id": "prGGBHEB42oV"
   },
   "outputs": [
    {
     "ename": "AssertionError",
     "evalue": "This assertion always triggers.",
     "output_type": "error",
     "traceback": [
      "\u001b[1;31m---------------------------------------------------------------------------\u001b[0m",
      "\u001b[1;31mAssertionError\u001b[0m                            Traceback (most recent call last)",
      "\u001b[1;32m<ipython-input-13-c85354703608>\u001b[0m in \u001b[0;36m<module>\u001b[1;34m\u001b[0m\n\u001b[1;32m----> 1\u001b[1;33m \u001b[1;32massert\u001b[0m \u001b[1;32mFalse\u001b[0m\u001b[1;33m,\u001b[0m \u001b[1;34m'This assertion always triggers.'\u001b[0m\u001b[1;33m\u001b[0m\u001b[1;33m\u001b[0m\u001b[0m\n\u001b[0m",
      "\u001b[1;31mAssertionError\u001b[0m: This assertion always triggers."
     ]
    }
   ],
   "source": [
    "assert False, 'This assertion always triggers.'"
   ]
  },
  {
   "cell_type": "code",
   "execution_count": null,
   "metadata": {
    "id": "xOBMzu4A42tm"
   },
   "outputs": [],
   "source": [
    "# 4. What are the two lines that must be present in your software in order to call logging.debug()?"
   ]
  },
  {
   "cell_type": "code",
   "execution_count": 14,
   "metadata": {
    "colab": {
     "base_uri": "https://localhost:8080/"
    },
    "id": "q6US4ezO42zx",
    "outputId": "799670b4-5ca3-4b58-b8c1-c70a7d494f16"
   },
   "outputs": [],
   "source": [
    "\"To be able to call logging.debug(), we must have these two lines at the start of your program:\"\n",
    "\n",
    "import logging\n",
    "logging.basicConfig(level=logging.DEBUG, format=' %(asctime)s - %(levelname)s - %(message)s')"
   ]
  },
  {
   "cell_type": "code",
   "execution_count": 15,
   "metadata": {
    "id": "JeIij5IR425B"
   },
   "outputs": [],
   "source": [
    "# 5. What are the two lines that your program must have in order to have logging.debug() send a\n",
    "# logging message to a file named programLog.txt?"
   ]
  },
  {
   "cell_type": "code",
   "execution_count": 16,
   "metadata": {
    "id": "vRGxx4_J42_n"
   },
   "outputs": [],
   "source": [
    "\"To be able to send logging messages to a file named programLog.txt with logging.debug(), you must have these two lines at the start of your program:\"\n",
    "# check log file name\n",
    "import logging\n",
    "logging.basicConfig(filename='programLog.txt', level=logging.DEBUG, format=' %(asctime)s - %(levelname)s - %(message)s')"
   ]
  },
  {
   "cell_type": "code",
   "execution_count": null,
   "metadata": {
    "id": "PxTNhCZH43FA"
   },
   "outputs": [],
   "source": [
    "# 6. What are the five levels of logging?"
   ]
  },
  {
   "cell_type": "code",
   "execution_count": null,
   "metadata": {
    "colab": {
     "base_uri": "https://localhost:8080/",
     "height": 36
    },
    "id": "p20YIzPX43Lr",
    "outputId": "b4eb09ea-47d6-4c57-e4f2-0d492833f528"
   },
   "outputs": [
    {
     "data": {
      "application/vnd.google.colaboratory.intrinsic+json": {
       "type": "string"
      },
      "text/plain": [
       "'Five levels of logging are: INFO, ERROR, WARNING, CRITICAL, and DEBUG.'"
      ]
     },
     "execution_count": 3,
     "metadata": {
      "tags": []
     },
     "output_type": "execute_result"
    }
   ],
   "source": [
    "'''These are the Five levels of logging are: INFO, ERROR, WARNING, CRITICAL, and DEBUG from least to most important. \"\n",
    "The Error and critical messages are more important than others.\n",
    "Debug  - used for small details. generally used only while diagnosing problems.\n",
    "Info   - used to record information about general events of program and also confirm smooth working of program.\n",
    "Warning- used to indicate potential threat which does'nt save from failure but might harm in near future.\n",
    "Error  - used to record error that casued the failure of the program to do the teast at hand\n",
    "Critical- used to indicate severe errors that has caused or about to fail/ stop the program from execution. \n",
    "\n",
    "'''\n",
    "import logging as lg\n",
    "lg.basicConfig(filename='programLog.txt', level = logging.DEBUG, format= '%(asctime)s - %(levelname)s - %(message)s')\n",
    "logging.debug(\"This is a debug message\")\n",
    "logging.info(\"This is a info message\")\n",
    "logging.warning(\"This is a warning message\")\n",
    "logging.error(\"This is a error message\")     # After developing this is most important\n",
    "logging.critical(\"This is a critical message\")"
   ]
  },
  {
   "cell_type": "code",
   "execution_count": null,
   "metadata": {
    "id": "qI_xSG9O43Rx"
   },
   "outputs": [],
   "source": [
    "# 7. What line of code would you add to your software to disable all logging messages?"
   ]
  },
  {
   "cell_type": "code",
   "execution_count": 18,
   "metadata": {
    "colab": {
     "base_uri": "https://localhost:8080/",
     "height": 54
    },
    "id": "u4CtCrbX43Yh",
    "outputId": "b539e78e-5b3f-4e75-b8c3-f07545828a12"
   },
   "outputs": [
    {
     "data": {
      "text/plain": [
       "'import logging as lg\\nlg.basicConfig(filename=\\'programLog.txt\\', level = logging.DEBUG, format= \\'%(asctime)s - %(levelname)s - %(message)s\\')\\nlg.critical(\"This is a critical message\")\\nlg.disable(lg.CRITICAL)\\nlg.error(\"This is a error message\")\\nlg.disable(lg.error)\\n\\nWe can disable logging messages without removing the logging function calls. \\nWe can also selectively disable lower-level logging messages. We can create logging messages. \\nLogging messages provides a timestamp.'"
      ]
     },
     "execution_count": 18,
     "metadata": {},
     "output_type": "execute_result"
    }
   ],
   "source": [
    "\"After debugging, we won't be require the log messages. So we would disable logging.\"\n",
    "\n",
    "'''import logging as lg\n",
    "lg.basicConfig(filename='programLog.txt', level = logging.DEBUG, format= '%(asctime)s - %(levelname)s - %(message)s')\n",
    "lg.critical(\"This is a critical message\")\n",
    "lg.disable(lg.CRITICAL)\n",
    "lg.error(\"This is a error message\")\n",
    "lg.disable(lg.error)\n",
    "\n",
    "We can disable logging messages without removing the logging function calls. \n",
    "We can also selectively disable lower-level logging messages. We can create logging messages. \n",
    "Logging messages provides a timestamp.'''"
   ]
  },
  {
   "cell_type": "code",
   "execution_count": null,
   "metadata": {
    "id": "anyucoBd43fm"
   },
   "outputs": [],
   "source": [
    "# 8. Why is using logging messages better than using print() to display the same message?"
   ]
  },
  {
   "cell_type": "code",
   "execution_count": null,
   "metadata": {
    "id": "McMs2LrQKOKv"
   },
   "outputs": [],
   "source": [
    "''' Following are the points using logging messages better than using print() function: \n",
    "    1. More consistent log messages\n",
    "    2. Can write to files easily\n",
    "    3. It will let’s us do search and filter on these log files\n",
    "    4. Loads of extra metadata just from configuring the log message format once\n",
    "    5. We can categorize logs based on severity\n",
    "    6. Keep getting logs once code is deployed for better monitoring'''"
   ]
  },
  {
   "cell_type": "code",
   "execution_count": null,
   "metadata": {
    "id": "bhUqzECjKK-h"
   },
   "outputs": [],
   "source": [
    "# 9. What are the differences between the Step Over, Step In, and Step Out buttons in the debugger?"
   ]
  },
  {
   "cell_type": "code",
   "execution_count": null,
   "metadata": {
    "colab": {
     "base_uri": "https://localhost:8080/",
     "height": 54
    },
    "id": "1ScoAyA9MA4G",
    "outputId": "14c63006-6dcc-41e6-fd5a-f6cffb670359"
   },
   "outputs": [
    {
     "data": {
      "application/vnd.google.colaboratory.intrinsic+json": {
       "type": "string"
      },
      "text/plain": [
       "'The Step button will move the debugger into a function call. \\nThe Over button will quickly execute the function call without stepping into it. \\nThe Out button will quickly execute the rest of the code until it steps out of the function it currently is in.'"
      ]
     },
     "execution_count": 6,
     "metadata": {
      "tags": []
     },
     "output_type": "execute_result"
    }
   ],
   "source": [
    "''' The debugger is a feature which allows you to execute a single line of code and then wait for user input to continue further. \n",
    "Debugger has following features - continue, Step Over, Step In, Step Out, and Stop.  \n",
    "The Continue button will execute normally untill program terminates or reaches breakpoint.\n",
    "\n",
    "The Step button will move the debugger into a function call. \n",
    "\n",
    "The Step Over button will quickly execute the next line of code but if next line of code is a function call then debugger will pause as soon as function call returns.\n",
    "The Step In button execute the next line of code and then pause again. If next line of code is a function call, \n",
    "debugger will \"Step into\" that function and jump to first line of code of that function. \n",
    "The Step Out button will quickly execute the lines of code until it returns from the current function.'''"
   ]
  },
  {
   "cell_type": "code",
   "execution_count": null,
   "metadata": {
    "id": "qlD7EHlEMBDL"
   },
   "outputs": [],
   "source": [
    "# 10. After you click Continue, when will the debugger stop ?"
   ]
  },
  {
   "cell_type": "code",
   "execution_count": 4,
   "metadata": {
    "colab": {
     "base_uri": "https://localhost:8080/",
     "height": 36
    },
    "id": "d8581Oj5MBMq",
    "outputId": "d1a7946b-8ee5-4556-97d8-956d0c370992"
   },
   "outputs": [
    {
     "data": {
      "text/plain": [
       "'When we click continue it will cause the program to execute normally untill it terminates or \\nreaches a breakpoint. It generally pressed when we have finished debugging our program'"
      ]
     },
     "execution_count": 4,
     "metadata": {},
     "output_type": "execute_result"
    }
   ],
   "source": [
    "'''When we click continue it will cause the program to execute normally untill it terminates or \n",
    "reaches a breakpoint. It generally pressed when we have finished debugging our program'''"
   ]
  },
  {
   "cell_type": "code",
   "execution_count": null,
   "metadata": {
    "id": "hoBTQa4WMBSd"
   },
   "outputs": [],
   "source": [
    "# 11. What is the concept of a breakpoint?"
   ]
  },
  {
   "cell_type": "code",
   "execution_count": 5,
   "metadata": {
    "colab": {
     "base_uri": "https://localhost:8080/",
     "height": 54
    },
    "id": "Ub9ncsTgMDlp",
    "outputId": "4ebe7df2-2b9b-4272-a277-230ba7a97c65"
   },
   "outputs": [
    {
     "data": {
      "text/plain": [
       "'A breakpoint is a setting done on a specific line of code that causes the debugger to pause when the program execution reaches that specific line.\\nTo set a breakpoint in IDLE, right-click the line and select Set Breakpoint from the context menu.'"
      ]
     },
     "execution_count": 5,
     "metadata": {},
     "output_type": "execute_result"
    }
   ],
   "source": [
    "'''A breakpoint is a setting done on a specific line of code that causes the debugger to pause when the program execution reaches that specific line.\n",
    "To set a breakpoint in IDLE, right-click the line and select Set Breakpoint from the context menu.'''"
   ]
  },
  {
   "cell_type": "code",
   "execution_count": null,
   "metadata": {
    "id": "E4COL3jGKLUy"
   },
   "outputs": [],
   "source": []
  }
 ],
 "metadata": {
  "colab": {
   "collapsed_sections": [],
   "name": "Assignment-11.ipynb",
   "provenance": []
  },
  "kernelspec": {
   "display_name": "Python 3",
   "language": "python",
   "name": "python3"
  },
  "language_info": {
   "codemirror_mode": {
    "name": "ipython",
    "version": 3
   },
   "file_extension": ".py",
   "mimetype": "text/x-python",
   "name": "python",
   "nbconvert_exporter": "python",
   "pygments_lexer": "ipython3",
   "version": "3.8.5"
  }
 },
 "nbformat": 4,
 "nbformat_minor": 1
}
