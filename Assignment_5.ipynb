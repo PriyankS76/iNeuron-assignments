{
 "cells": [
  {
   "cell_type": "code",
   "execution_count": null,
   "id": "58c642bf",
   "metadata": {},
   "outputs": [],
   "source": [
    "1. What does an empty dictionary's code look like?\n",
    "Ans: An empty dictionary's code could be {} or dict1 = dict()."
   ]
  },
  {
   "cell_type": "code",
   "execution_count": 1,
   "id": "45dca5b9",
   "metadata": {},
   "outputs": [
    {
     "data": {
      "text/plain": [
       "dict"
      ]
     },
     "execution_count": 1,
     "metadata": {},
     "output_type": "execute_result"
    }
   ],
   "source": [
    "type({})"
   ]
  },
  {
   "cell_type": "code",
   "execution_count": 2,
   "id": "9b57f61e",
   "metadata": {},
   "outputs": [
    {
     "data": {
      "text/plain": [
       "dict"
      ]
     },
     "execution_count": 2,
     "metadata": {},
     "output_type": "execute_result"
    }
   ],
   "source": [
    "dic1 = dict()\n",
    "type(dic1)"
   ]
  },
  {
   "cell_type": "code",
   "execution_count": null,
   "id": "2fab5b67",
   "metadata": {},
   "outputs": [],
   "source": [
    "2. What is the value of a dictionary value with the key 'foo' and the value 42?\n",
    "Ans: The dictionary will be {'foo' : 42}"
   ]
  },
  {
   "cell_type": "code",
   "execution_count": 3,
   "id": "21015680",
   "metadata": {},
   "outputs": [
    {
     "data": {
      "text/plain": [
       "{'foo': 42}"
      ]
     },
     "execution_count": 3,
     "metadata": {},
     "output_type": "execute_result"
    }
   ],
   "source": [
    "dict2 = {'foo': 42}\n",
    "dict2"
   ]
  },
  {
   "cell_type": "code",
   "execution_count": null,
   "id": "ad1d9f34",
   "metadata": {},
   "outputs": [],
   "source": [
    "3. What is the most significant distinction between a dictionary and a list?\n"
   ]
  },
  {
   "cell_type": "code",
   "execution_count": null,
   "id": "ac7420f1",
   "metadata": {},
   "outputs": [],
   "source": [
    "Ans:\n",
    "\n",
    "dictionary is created using {'keys' : 'values'} whereas list is created using [] with elements seperated by commas.\n",
    "dictionary is key and value pairs hashed structure which stores map data whereas list is collection of index and value pairs.\n",
    "dictionary keys can be of any datatype whereas list index is integers starting from zero.\n",
    "dictionary is accessed using key and value pairs whereas list is accessed using indices.\n",
    "In dictionary there is no guarentee for maintaining order of entered data whereas in list the order of entered data is maintained."
   ]
  },
  {
   "cell_type": "code",
   "execution_count": null,
   "id": "e3bc8d1f",
   "metadata": {},
   "outputs": [],
   "source": [
    "4. What happens if you try to access spam['foo'] if spam is {'bar': 100}?\n",
    "Ans This will result into a key error. As 'foo' is not defined in key."
   ]
  },
  {
   "cell_type": "code",
   "execution_count": null,
   "id": "4424fe11",
   "metadata": {},
   "outputs": [],
   "source": [
    "5. If a dictionary is stored in spam, what is the difference between the expressions 'cat' in spam and 'cat' in spam.keys()?\n",
    "Ans: The expression 'cat' in spam and 'cat' in spam.keys() are both equal execution wise, as both these expression look for 'cat' in keys of dictionary spam. For Example"
   ]
  },
  {
   "cell_type": "code",
   "execution_count": 4,
   "id": "a83be5cd",
   "metadata": {},
   "outputs": [
    {
     "name": "stdout",
     "output_type": "stream",
     "text": [
      "True\n"
     ]
    }
   ],
   "source": [
    "spam = {'cat': 1, 'd': 2 , 'e' : 3}\n",
    "\n",
    "if 'cat' in spam:\n",
    "    print(True)\n",
    "else:\n",
    "    print(False)"
   ]
  },
  {
   "cell_type": "code",
   "execution_count": 7,
   "id": "4f71fab8",
   "metadata": {},
   "outputs": [
    {
     "data": {
      "text/plain": [
       "dict_keys(['cat', 'd', 'e'])"
      ]
     },
     "execution_count": 7,
     "metadata": {},
     "output_type": "execute_result"
    }
   ],
   "source": [
    "spam.keys()# it will look for 'Cat' in keys only."
   ]
  },
  {
   "cell_type": "code",
   "execution_count": 8,
   "id": "6d68e554",
   "metadata": {},
   "outputs": [
    {
     "name": "stdout",
     "output_type": "stream",
     "text": [
      "True\n"
     ]
    }
   ],
   "source": [
    "if 'cat' in spam.keys():\n",
    "    print(True)\n",
    "else:\n",
    "    print(False)"
   ]
  },
  {
   "cell_type": "code",
   "execution_count": null,
   "id": "558edcfd",
   "metadata": {},
   "outputs": [],
   "source": [
    "6. If a dictionary is stored in spam, what is the difference between the expressions 'cat' in spam and 'cat' in spam.values()?\n",
    "Ans: As explained in previous question 'cat' in spam will only look for 'cat' in keys of dictionary. Whereas 'cat' in spam.values() will look for 'cat' in values of dictionary. For example"
   ]
  },
  {
   "cell_type": "code",
   "execution_count": 9,
   "id": "a897e2e0",
   "metadata": {},
   "outputs": [
    {
     "name": "stdout",
     "output_type": "stream",
     "text": [
      "False\n"
     ]
    }
   ],
   "source": [
    "if 'cat' in spam.values():\n",
    "    print(True)\n",
    "else:\n",
    "    print(False)"
   ]
  },
  {
   "cell_type": "code",
   "execution_count": null,
   "id": "3941e76a",
   "metadata": {},
   "outputs": [],
   "source": [
    "7. What is a shortcut for the following code?\n",
    "if 'color' not in spam:\n",
    "\n",
    "spam['color'] = 'black'\n",
    "\n",
    "Ans: shortcut for if 'color' not in spam : spam['color'] = 'black' is spam.setdefault('color','black') as shown below:"
   ]
  },
  {
   "cell_type": "code",
   "execution_count": 10,
   "id": "f671acf9",
   "metadata": {},
   "outputs": [
    {
     "data": {
      "text/plain": [
       "'black'"
      ]
     },
     "execution_count": 10,
     "metadata": {},
     "output_type": "execute_result"
    }
   ],
   "source": [
    "spam = {'cat': 1, 'd': 2 , 'e' : 3,'color' : 'black'}\n",
    "spam['color']"
   ]
  },
  {
   "cell_type": "code",
   "execution_count": null,
   "id": "d513f8e1",
   "metadata": {},
   "outputs": [],
   "source": [
    "8. How do you \"pretty print\" dictionary values using which module and function?\n",
    "Ans: By using pprint() method of pprint module. For example"
   ]
  },
  {
   "cell_type": "code",
   "execution_count": 13,
   "id": "4591b0e3",
   "metadata": {},
   "outputs": [
    {
     "name": "stdout",
     "output_type": "stream",
     "text": [
      "[{'Name': 'Sachin Tendulkar', 'played for': {'Ranji': 'Maharashtra', 'country': 'India', 'Ipl': 'MI'}}]\n"
     ]
    }
   ],
   "source": [
    "my_dict = [\n",
    "    {'Name' : 'Sachin Tendulkar', 'played for' : {'Ranji' : 'Maharashtra', 'country' : 'India', 'Ipl' : 'MI'}}\n",
    "    ]\n",
    "print(my_dict)"
   ]
  },
  {
   "cell_type": "code",
   "execution_count": 14,
   "id": "4a3c89ec",
   "metadata": {},
   "outputs": [
    {
     "name": "stdout",
     "output_type": "stream",
     "text": [
      "[{'Name': 'Sachin Tendulkar',\n",
      "  'played for': {'Ipl': 'MI', 'Ranji': 'Maharashtra', 'country': 'India'}}]\n"
     ]
    }
   ],
   "source": [
    "import pprint as pp\n",
    "pp.pprint(my_dict)"
   ]
  },
  {
   "cell_type": "code",
   "execution_count": null,
   "id": "dd69a4f1",
   "metadata": {},
   "outputs": [],
   "source": []
  }
 ],
 "metadata": {
  "kernelspec": {
   "display_name": "Python 3 (ipykernel)",
   "language": "python",
   "name": "python3"
  },
  "language_info": {
   "codemirror_mode": {
    "name": "ipython",
    "version": 3
   },
   "file_extension": ".py",
   "mimetype": "text/x-python",
   "name": "python",
   "nbconvert_exporter": "python",
   "pygments_lexer": "ipython3",
   "version": "3.9.12"
  }
 },
 "nbformat": 4,
 "nbformat_minor": 5
}
