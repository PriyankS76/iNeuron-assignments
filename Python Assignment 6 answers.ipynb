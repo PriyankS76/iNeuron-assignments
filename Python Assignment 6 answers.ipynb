{
 "cells": [
  {
   "cell_type": "code",
   "execution_count": 7,
   "id": "572d709f",
   "metadata": {},
   "outputs": [],
   "source": [
    "# 1.What are Escape characters ? and how do you use them ?\n",
    "# Ans: Escape characters represent characters in string values that would otherwise be difficult or impossible to type into code. we can use the backslash character to escape a single character or symbol\n",
    "# example: \\t, \\n"
   ]
  },
  {
   "cell_type": "code",
   "execution_count": 9,
   "id": "dba41375",
   "metadata": {},
   "outputs": [
    {
     "data": {
      "text/plain": [
       "'The backslash \"\" is known as the escape character,to insert characters that are illegal in a string, use an escape character.\\nAn escape character is a backslash \\\\ followed by the character you want to insert.'"
      ]
     },
     "execution_count": 9,
     "metadata": {},
     "output_type": "execute_result"
    }
   ],
   "source": [
    "'''The backslash \"\\\" is known as the escape character,to insert characters that are illegal in a string, use an escape character.\n",
    "An escape character is a backslash \\ followed by the character you want to insert.'''"
   ]
  },
  {
   "cell_type": "code",
   "execution_count": 10,
   "id": "136eebe7",
   "metadata": {},
   "outputs": [],
   "source": [
    "# 2.What do the escape characters n and t stand for ?\n",
    "# Ans: \\n is a newline, \\t is a tab"
   ]
  },
  {
   "cell_type": "code",
   "execution_count": 12,
   "id": "2539003f",
   "metadata": {},
   "outputs": [
    {
     "name": "stdout",
     "output_type": "stream",
     "text": [
      "Hello\n",
      "Team!\n",
      "Hello\n",
      "Team!\n"
     ]
    }
   ],
   "source": [
    "txt = \"Hello\\nTeam!\"\n",
    "print(txt) \n",
    "\n",
    "txt1 = \"Hello\\tTeam!\"\n",
    "print(txt) "
   ]
  },
  {
   "cell_type": "code",
   "execution_count": null,
   "id": "328f1ea0",
   "metadata": {},
   "outputs": [],
   "source": [
    "# 3.What is the way to include backslash character in a string?\n",
    "# Ans: The \\\\ escape character will represent the backslash character in a string\n",
    "\n",
    "# 4.The string \"Howl's Moving Castle\" is a correct value. Why isn't the single quote character in the word Howl's not escaped a problem ?\n",
    "# Ans: The string \"Howl's Moving Castle\" escaped the problem because it is wrapped inside double quotes. if its wrapped inside single quotes then we have to use escape character \\' to show single quote in the final output\n",
    "# 'Howl\\'s Moving Castle' -> 'Howl's Moving Castle'"
   ]
  },
  {
   "cell_type": "markdown",
   "id": "04b8b03e",
   "metadata": {},
   "source": [
    "### 5.How do you write a string of newlines if you don't want to use the n character?\n",
    "### Ans:Multiline string allow you to use newlines in string without the \\n escape character"
   ]
  },
  {
   "cell_type": "code",
   "execution_count": 13,
   "id": "05edecee",
   "metadata": {},
   "outputs": [
    {
     "name": "stdout",
     "output_type": "stream",
     "text": [
      "I am \n",
      "Priyank Shekhar\n"
     ]
    }
   ],
   "source": [
    "# Example:\n",
    "b1 = '''I am \n",
    "Priyank Shekhar'''\n",
    "print(b1)"
   ]
  },
  {
   "cell_type": "code",
   "execution_count": null,
   "id": "52918b26",
   "metadata": {},
   "outputs": [],
   "source": [
    "# 6.What are the values of the given expressions ?\n",
    "# 'Hello, world!'[1]\n",
    "# 'Hello, world!'[0:5]\n",
    "# 'Hello, world!'[:5]\n",
    "# 'Hello, world!'[3:]\n",
    "\n",
    "# Ans: The values for the given expressions are:\n",
    "# 'Hello, world!'[1] -> 'e'\n",
    "# 'Hello, world!'[0:5] -> 'Hello'\n",
    "# 'Hello, world!'[:5] -> 'Hello'\n",
    "# 'Hello, world!'[3:] -> 'lo, world!'"
   ]
  },
  {
   "cell_type": "code",
   "execution_count": 15,
   "id": "544ae1e5",
   "metadata": {},
   "outputs": [],
   "source": [
    "# 7.What are the values of the following expressions ?\n",
    "# 'Hello'.upper()\n",
    "# 'Hello'.upper().isupper()\n",
    "# 'Hello'.upper().lower()\n",
    "\n",
    "# Ans: The values for the given expressions are:\n",
    "# 'Hello'.upper() -> 'HELLO'\n",
    "# 'Hello'.upper().isupper() -> True\n",
    "# 'Hello'.upper().lower() -> 'hello'"
   ]
  },
  {
   "cell_type": "code",
   "execution_count": null,
   "id": "f887a6e8",
   "metadata": {},
   "outputs": [],
   "source": [
    "# 8.What are the values of the following expressions ?\n",
    "# 'Remember, remember, the fifith of July.'.split()\n",
    "# -'.join('There can only one'.split())\n",
    "\n",
    "# Ans: The values for the given expressions are:\n",
    "# 'Remember, remember, the fifith of July.'.split() -> ['Remember,', 'remember,', 'the', 'fifith', 'of', 'July.']\n",
    "# '-'.join('There can only one'.split()) -> 'There-can-only-one'"
   ]
  },
  {
   "cell_type": "code",
   "execution_count": 16,
   "id": "95755075",
   "metadata": {},
   "outputs": [],
   "source": [
    "# 9.What are the methods for right-justifying, left-justifying and centering a string ?\n",
    "# Ans: The rjust(),ljust(),center() string methods, respectively\n",
    "\n",
    "# str.ljust(s, width[, fillchar])\n",
    "\n",
    "# str.rjust(s, width[, fillchar])\n",
    "\n",
    "# str.center(s, width[, fillchar])"
   ]
  },
  {
   "cell_type": "code",
   "execution_count": null,
   "id": "6e2f9474",
   "metadata": {},
   "outputs": [],
   "source": [
    "# 10.What is the best way to remove whitespace characters from the start or end ?\n",
    "# Ans: The lstrip() and rstrip() methods remove whitesapce characters from the left and right ends of a string respectively"
   ]
  },
  {
   "cell_type": "code",
   "execution_count": 17,
   "id": "3eed8670",
   "metadata": {},
   "outputs": [
    {
     "name": "stdout",
     "output_type": "stream",
     "text": [
      " String after stripping all '-' is : iNeuron\n",
      " String after stripping all leading '-' is : iNeuron---\n",
      " String after stripping all trailing '-' is : ---iNeuron\n"
     ]
    }
   ],
   "source": [
    "str = \"---iNeuron---\"\n",
    " \n",
    "# using strip() to delete all '-'\n",
    "print ( \" String after stripping all '-' is : \", end=\"\")\n",
    "print ( str.strip('-') )\n",
    " \n",
    "# using lstrip() to delete all trailing '-'\n",
    "print ( \" String after stripping all leading '-' is : \", end=\"\")\n",
    "print ( str.lstrip('-') )\n",
    " \n",
    "# using rstrip() to delete all leading '-'\n",
    "print ( \" String after stripping all trailing '-' is : \", end=\"\")\n",
    "print ( str.rstrip('-') )"
   ]
  },
  {
   "cell_type": "code",
   "execution_count": null,
   "id": "b5bc1b61",
   "metadata": {},
   "outputs": [],
   "source": []
  }
 ],
 "metadata": {
  "kernelspec": {
   "display_name": "Python 3 (ipykernel)",
   "language": "python",
   "name": "python3"
  },
  "language_info": {
   "codemirror_mode": {
    "name": "ipython",
    "version": 3
   },
   "file_extension": ".py",
   "mimetype": "text/x-python",
   "name": "python",
   "nbconvert_exporter": "python",
   "pygments_lexer": "ipython3",
   "version": "3.9.12"
  }
 },
 "nbformat": 4,
 "nbformat_minor": 5
}
